{
 "cells": [
  {
   "cell_type": "code",
   "execution_count": 1,
   "id": "be817b92",
   "metadata": {},
   "outputs": [],
   "source": [
    "import pandas as pd\n",
    "from sklearn.model_selection import train_test_split\n",
    "import pickle\n",
    "from typing import Dict, List, Set, Union\n",
    "import numpy as np\n",
    "import pandas as pd\n",
    "from tqdm import tqdm\n",
    "from sentence_transformers import SentenceTransformer, util\n",
    "import catboost as cb\n",
    "from sklearn.metrics import classification_report"
   ]
  },
  {
   "cell_type": "code",
   "execution_count": 2,
   "id": "34dd8ffe",
   "metadata": {},
   "outputs": [],
   "source": [
    "data_path = './train.csv'\n",
    "knn_weights_path = './knn_weights'\n",
    "catboost_weights_path = './catboost_weights'"
   ]
  },
  {
   "cell_type": "code",
   "execution_count": 3,
   "id": "881bf424",
   "metadata": {},
   "outputs": [],
   "source": [
    "X_test = pd.read_csv(data_path)\n",
    "\n",
    "if 'isCover' in X_test.columns:\n",
    "    y_test = X_test['isCover']\n",
    "    X_test.drop('isCover', axis=1, inplace=True)"
   ]
  },
  {
   "cell_type": "code",
   "execution_count": 4,
   "id": "15e93859",
   "metadata": {},
   "outputs": [],
   "source": [
    "class KNNOnEmbeddings:\n",
    "    def __init__(self, model, ):\n",
    "        super().__init__()\n",
    "        self.model = model\n",
    "        self.embeddings = []\n",
    "        self.embedding_id_to_track_id = []\n",
    "        self.track_info = []\n",
    "        self.text_field = 'text'\n",
    "        \n",
    "    def _parse_track(self, track_text: str) -> Set[str]:\n",
    "        return set([line for line in track_text.split('\\n') if line])\n",
    "    \n",
    "    def _get_line_embedding(self, line: str) -> np.ndarray:\n",
    "        return self.model.encode(line)\n",
    "    \n",
    "    def __len__(self):\n",
    "        return len(self.track_info)\n",
    "    \n",
    "    def _get_track_embeddings(self, track_text: str):\n",
    "        parsed_text = self._parse_track(track_text)\n",
    "        \n",
    "        embeddings = []\n",
    "        for line in parsed_text:\n",
    "            embedding = self._get_line_embedding(line)\n",
    "            embeddings.append(embedding)\n",
    "            \n",
    "        return embeddings\n",
    "                \n",
    "    def append(self, track: Dict[str, Union[str, int, bool, None]]) -> None:\n",
    "        self.track_info.append(track)\n",
    "        embeddings = self._get_track_embeddings(track[self.text_field])\n",
    "        self.embeddings += embeddings\n",
    "        self.embedding_id_to_track_id += [len(self.track_info) - 1, ] * len(embeddings)\n",
    "        \n",
    "    def make_from_dataframe(self, tracks: pd.DataFrame) -> None:\n",
    "        for _, track in tqdm(tracks.iterrows()):\n",
    "            self.append(dict(track))\n",
    "            \n",
    "    def dump(self, file_path: str) -> None:\n",
    "        with open(file_path, 'wb') as file:\n",
    "            pickle.dump(self, file)\n",
    "    \n",
    "    @staticmethod\n",
    "    def load(file_path: str) -> None:\n",
    "        with open(file_path, 'rb') as file:\n",
    "            obj = pickle.load(file)\n",
    "        \n",
    "        return obj\n",
    "    \n",
    "    def _from_embedding_id_to_track_id(self, embedding_ids: List[int]) -> List[int]:\n",
    "        return [self.embedding_id_to_track_id[embedding_id] for embedding_id in embedding_ids]\n",
    "            \n",
    "    def _find_k_nearest_neigbors_by_score(self, scores: List[float], k: int = 3):\n",
    "        ids = np.argpartition(scores, -k)[-k:]\n",
    "        return list(ids), scores[ids]\n",
    "        \n",
    "    def _find_k_nearest_neigbors_by_embeddings(self, embeddings: np.ndarray, k: int = 3):\n",
    "        cos_sims = util.cos_sim(embeddings, knn.embeddings).numpy()\n",
    "        scores = []\n",
    "        for line_cos_sim in cos_sims:\n",
    "            scores.append(self._find_k_nearest_neigbors_by_score(line_cos_sim, k=k))\n",
    "        return scores\n",
    " \n",
    "    def find_k_nearest_neighbors(self, track: Dict[str, Union[str, int, bool, None]], k: int = 3):\n",
    "        embeddings = self._get_track_embeddings(track[self.text_field])\n",
    "        \n",
    "        ids_scores = self._find_k_nearest_neigbors_by_embeddings(embeddings, k=k)\n",
    "        \n",
    "        ids = []\n",
    "        scores = []\n",
    "        for ids_, scores_ in ids_scores:\n",
    "            scores_ /= scores_.sum()\n",
    "            \n",
    "            ids += self._from_embedding_id_to_track_id(ids_)\n",
    "            scores += list(scores_)\n",
    "        \n",
    "        ids_scores = sorted(zip(ids, scores))\n",
    "        ids_agg_scores = []\n",
    "        agg_score = 0.\n",
    "        for i, (idx, score) in enumerate(ids_scores):\n",
    "            if not i or idx == ids_scores[i - 1][0]:\n",
    "                agg_score += score\n",
    "            else:\n",
    "                ids_agg_scores.append((ids_scores[i - 1][0], agg_score))\n",
    "                agg_score = score\n",
    "        \n",
    "        ids_agg_scores.append((ids_scores[-1][0], agg_score))\n",
    "        ids_agg_scores = np.array(ids_agg_scores)\n",
    "                \n",
    "        top_k_ids, _ = self._find_k_nearest_neigbors_by_score(ids_agg_scores[:, 1], k=k)\n",
    "        top_k = ids_agg_scores[top_k_ids, :]\n",
    "        top_k = top_k[::-1]\n",
    "        top_k[:, 0] = top_k[:, 0].astype(int)\n",
    "        return top_k\n",
    "    \n",
    "    def find_k_nearest_tracks(self, track: Dict[str, Union[str, int, bool, None]], fields: List[str], k: int = 3):\n",
    "        if isinstance(track.get(self.text_field, 0.), str):\n",
    "            top_k = self.find_k_nearest_neighbors(track, k=k)\n",
    "\n",
    "            tracks = []\n",
    "\n",
    "            for neighbor in top_k:\n",
    "                idx = int(neighbor[0])\n",
    "                track_info = self.track_info[idx]\n",
    "\n",
    "                for field in fields:\n",
    "                    tracks.append(track_info.get(field, None))\n",
    "\n",
    "                tracks.append(neighbor[1])\n",
    "        else:\n",
    "            tracks = [None, ] * ((len(fields) + 1) * k)\n",
    "            \n",
    "        return tracks"
   ]
  },
  {
   "cell_type": "code",
   "execution_count": 5,
   "id": "ffa2a2e4",
   "metadata": {},
   "outputs": [],
   "source": [
    "knn = KNNOnEmbeddings.load(knn_weights_path)"
   ]
  },
  {
   "cell_type": "code",
   "execution_count": 6,
   "id": "6f34d56a",
   "metadata": {},
   "outputs": [],
   "source": [
    "fields = [\n",
    "    'track_id',\n",
    "    'artistsName',\n",
    "    'trackTitle',\n",
    "    'isCover',\n",
    "    'rating',\n",
    "    'title_regex_flag',\n",
    "    'other_titles_regex_flag',\n",
    "    'version_regex_flag',\n",
    "]"
   ]
  },
  {
   "cell_type": "code",
   "execution_count": null,
   "id": "0c36089c",
   "metadata": {},
   "outputs": [],
   "source": [
    "neighbors_info_test = []\n",
    "\n",
    "for _, track in tqdm(X_test.iterrows()):\n",
    "    neighbors_info_test.append(knn.find_k_nearest_tracks(dict(track), fields))"
   ]
  },
  {
   "cell_type": "code",
   "execution_count": 9,
   "id": "6b33f274",
   "metadata": {},
   "outputs": [],
   "source": [
    "additional_features_names = [field + '_top' + suffix for suffix in ['1', '2', '3'] for field in fields + ['similarity']]"
   ]
  },
  {
   "cell_type": "code",
   "execution_count": 10,
   "id": "db8c2f39",
   "metadata": {},
   "outputs": [],
   "source": [
    "test_additional_features = pd.DataFrame(neighbors_info_test, columns=additional_features_names)"
   ]
  },
  {
   "cell_type": "code",
   "execution_count": 11,
   "id": "6db7df4f",
   "metadata": {},
   "outputs": [],
   "source": [
    "X_test = pd.concat([X_test.reset_index(drop=True), test_additional_features], axis=1, ignore_index=False)"
   ]
  },
  {
   "cell_type": "code",
   "execution_count": 12,
   "id": "4c6677b7",
   "metadata": {},
   "outputs": [],
   "source": [
    "for i in range(1, 4):\n",
    "    X_test[f'similarity_top{i}'].fillna(0., inplace=True)"
   ]
  },
  {
   "cell_type": "code",
   "execution_count": 13,
   "id": "f325781d",
   "metadata": {},
   "outputs": [],
   "source": [
    "categorical_features = [\n",
    "    'track_id', \n",
    "    'rating', \n",
    "    'rating_nan', \n",
    "    'title_regex_flag', \n",
    "    'other_titles_regex_flag', \n",
    "    'version_regex_flag',\n",
    "    'track_id_top1',\n",
    "    'isCover_top1',\n",
    "    'rating_top1', \n",
    "    'title_regex_flag_top1', \n",
    "    'other_titles_regex_flag_top1',\n",
    "    'version_regex_flag_top1',\n",
    "    'track_id_top2',\n",
    "    'isCover_top2',\n",
    "    'rating_top2', \n",
    "    'title_regex_flag_top2', \n",
    "    'other_titles_regex_flag_top2',\n",
    "    'version_regex_flag_top2',\n",
    "    'track_id_top3',\n",
    "    'isCover_top3',\n",
    "    'rating_top3', \n",
    "    'title_regex_flag_top3', \n",
    "    'other_titles_regex_flag_top3',\n",
    "    'version_regex_flag_top3',\n",
    "]\n",
    "\n",
    "text_features = [\n",
    "    'artistsName', \n",
    "    'trackTitle', \n",
    "    'text',\n",
    "    'artistsName_top1', \n",
    "    'trackTitle_top1',\n",
    "    'artistsName_top2', \n",
    "    'trackTitle_top2',\n",
    "    'artistsName_top3', \n",
    "    'trackTitle_top3',\n",
    "]"
   ]
  },
  {
   "cell_type": "code",
   "execution_count": 17,
   "id": "8d88cc45",
   "metadata": {},
   "outputs": [],
   "source": [
    "test_dataset = cb.Pool(\n",
    "    X_test.drop(text_features, axis=1).fillna(-1).astype(int).replace(-1, 'NaN'),\n",
    "#     uncomment this if you have ground truth labels\n",
    "#     y_test,\n",
    "    cat_features=categorical_features,\n",
    ")"
   ]
  },
  {
   "cell_type": "code",
   "execution_count": 23,
   "id": "6aa9b062",
   "metadata": {},
   "outputs": [],
   "source": [
    "catboost_classifier = cb.CatBoostClassifier()\n",
    "catboost_classifier.load_model(catboost_weights_path);"
   ]
  },
  {
   "cell_type": "code",
   "execution_count": 19,
   "id": "7565325b",
   "metadata": {},
   "outputs": [
    {
     "data": {
      "text/plain": [
       "array([1, 0, 1, ..., 0, 0, 0], dtype=int64)"
      ]
     },
     "execution_count": 19,
     "metadata": {},
     "output_type": "execute_result"
    }
   ],
   "source": [
    "catboost_classifier.predict(test_dataset)"
   ]
  },
  {
   "cell_type": "code",
   "execution_count": null,
   "id": "e86c414b",
   "metadata": {},
   "outputs": [],
   "source": [
    "# print(classification_report(test_dataset.get_label(), catboost_classifier.predict(test_dataset)))"
   ]
  }
 ],
 "metadata": {
  "kernelspec": {
   "display_name": "Python 3",
   "language": "python",
   "name": "python3"
  },
  "language_info": {
   "codemirror_mode": {
    "name": "ipython",
    "version": 3
   },
   "file_extension": ".py",
   "mimetype": "text/x-python",
   "name": "python",
   "nbconvert_exporter": "python",
   "pygments_lexer": "ipython3",
   "version": "3.8.8"
  }
 },
 "nbformat": 4,
 "nbformat_minor": 5
}
