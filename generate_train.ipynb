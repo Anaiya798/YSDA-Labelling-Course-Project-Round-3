{
 "cells": [
  {
   "cell_type": "code",
   "execution_count": 29,
   "id": "5c876ff3",
   "metadata": {},
   "outputs": [],
   "source": [
    "from typing import Set, List\n",
    "\n",
    "import pandas as pd\n",
    "from tqdm.auto import tqdm\n",
    "import re\n",
    "from sklearn.metrics import accuracy_score, f1_score, recall_score, precision_score"
   ]
  },
  {
   "cell_type": "markdown",
   "source": [
    "# Loading texts"
   ],
   "metadata": {
    "collapsed": false
   }
  },
  {
   "cell_type": "code",
   "execution_count": 30,
   "outputs": [],
   "source": [
    "number_finding_regex = re.compile(r'\\d+')\n",
    "def get_ids(str_with_ids: str) -> List[int]:\n",
    "    return number_finding_regex.findall(str_with_ids)"
   ],
   "metadata": {
    "collapsed": false
   }
  },
  {
   "cell_type": "code",
   "execution_count": 31,
   "id": "919944c9",
   "metadata": {},
   "outputs": [
    {
     "data": {
      "text/plain": "  0%|          | 0/91397 [00:00<?, ?it/s]",
      "application/vnd.jupyter.widget-view+json": {
       "version_major": 2,
       "version_minor": 0,
       "model_id": "d3ff6eed5aee4cf7a53631798ef52bfc"
      }
     },
     "metadata": {},
     "output_type": "display_data"
    },
    {
     "name": "stdout",
     "output_type": "stream",
     "text": [
      "<class 'pandas.core.frame.DataFrame'>\n",
      "Int64Index: 172029 entries, 0 to 413793\n",
      "Data columns (total 2 columns):\n",
      " #   Column    Non-Null Count   Dtype \n",
      "---  ------    --------------   ----- \n",
      " 0   text      172029 non-null  object\n",
      " 1   track_id  172029 non-null  int64 \n",
      "dtypes: int64(1), object(1)\n",
      "memory usage: 3.9+ MB\n",
      "None\n"
     ]
    },
    {
     "data": {
      "text/plain": "                                                text  track_id\n0  Вновь о том, что день уходит с земли в час веч...  17869014\n1  Вновь о том, что день уходит с земли в час веч...  24264852\n2  Вновь о том, что день уходит с земли в час веч...  74175278\n3  Вот и осталось\\nЛишь снять усталость\\nИ этот в...   5335355\n4  Вот и осталось\\nЛишь снять усталость\\nИ этот в...  35903122",
      "text/html": "<div>\n<style scoped>\n    .dataframe tbody tr th:only-of-type {\n        vertical-align: middle;\n    }\n\n    .dataframe tbody tr th {\n        vertical-align: top;\n    }\n\n    .dataframe thead th {\n        text-align: right;\n    }\n</style>\n<table border=\"1\" class=\"dataframe\">\n  <thead>\n    <tr style=\"text-align: right;\">\n      <th></th>\n      <th>text</th>\n      <th>track_id</th>\n    </tr>\n  </thead>\n  <tbody>\n    <tr>\n      <th>0</th>\n      <td>Вновь о том, что день уходит с земли в час веч...</td>\n      <td>17869014</td>\n    </tr>\n    <tr>\n      <th>1</th>\n      <td>Вновь о том, что день уходит с земли в час веч...</td>\n      <td>24264852</td>\n    </tr>\n    <tr>\n      <th>2</th>\n      <td>Вновь о том, что день уходит с земли в час веч...</td>\n      <td>74175278</td>\n    </tr>\n    <tr>\n      <th>3</th>\n      <td>Вот и осталось\\nЛишь снять усталость\\nИ этот в...</td>\n      <td>5335355</td>\n    </tr>\n    <tr>\n      <th>4</th>\n      <td>Вот и осталось\\nЛишь снять усталость\\nИ этот в...</td>\n      <td>35903122</td>\n    </tr>\n  </tbody>\n</table>\n</div>"
     },
     "execution_count": 31,
     "metadata": {},
     "output_type": "execute_result"
    }
   ],
   "source": [
    "df_texts_part_1 = pd.read_csv('texts/100000txtPART1.csv', sep=';',).dropna()\n",
    "df_texts_part_2 = pd.read_csv('texts/100000txtPART2.csv', sep=';').dropna()\n",
    "df_texts_part_3 = pd.read_csv('texts/25000txt.csv', sep=';').dropna()\n",
    "df_texts_part_4 = pd.read_csv('texts/2000txt.csv', sep=';').dropna()\n",
    "df_texts_full = pd.concat([df_texts_part_1, df_texts_part_2, df_texts_part_3, df_texts_part_4], ignore_index=True)\n",
    "\n",
    "\n",
    "new_df_data = []\n",
    "for _, row in tqdm(df_texts_full.iterrows(), total=len(df_texts_full)):\n",
    "    track_ids = get_ids(row.trackIds)\n",
    "\n",
    "    for track_id in track_ids:\n",
    "        new_df_data.append([\n",
    "            row.resource,\n",
    "            int(track_id),\n",
    "        ])\n",
    "\n",
    "df_texts_full = pd.DataFrame(\n",
    "    new_df_data,\n",
    "    columns=['text', 'track_id'],\n",
    ")\n",
    "df_texts_full.drop_duplicates(inplace=True, subset=['track_id'])\n",
    "\n",
    "print(df_texts_full.info())\n",
    "df_texts_full.head()"
   ]
  },
  {
   "cell_type": "markdown",
   "source": [
    "# Loading meta"
   ],
   "metadata": {
    "collapsed": false
   }
  },
  {
   "cell_type": "code",
   "execution_count": 32,
   "outputs": [
    {
     "name": "stdout",
     "output_type": "stream",
     "text": [
      "<class 'pandas.core.frame.DataFrame'>\n",
      "Int64Index: 100000 entries, 0 to 99999\n",
      "Data columns (total 5 columns):\n",
      " #   Column        Non-Null Count   Dtype  \n",
      "---  ------        --------------   -----  \n",
      " 0   other_titles  100000 non-null  object \n",
      " 1   rating        99807 non-null   float64\n",
      " 2   title         100000 non-null  object \n",
      " 3   track_id      100000 non-null  int64  \n",
      " 4   version       100000 non-null  object \n",
      "dtypes: float64(1), int64(1), object(3)\n",
      "memory usage: 4.6+ MB\n",
      "None\n"
     ]
    },
    {
     "data": {
      "text/plain": "  other_titles     rating           title   track_id version\n0           []   961791.0  Ночью на кухне  108205536        \n1           []   852844.0         Позвони  107314429        \n2           []   643184.0      Иностранец  107480583        \n3           []  1023430.0        По барам  104964266        \n4           []   865433.0          Стрелы  106246540        ",
      "text/html": "<div>\n<style scoped>\n    .dataframe tbody tr th:only-of-type {\n        vertical-align: middle;\n    }\n\n    .dataframe tbody tr th {\n        vertical-align: top;\n    }\n\n    .dataframe thead th {\n        text-align: right;\n    }\n</style>\n<table border=\"1\" class=\"dataframe\">\n  <thead>\n    <tr style=\"text-align: right;\">\n      <th></th>\n      <th>other_titles</th>\n      <th>rating</th>\n      <th>title</th>\n      <th>track_id</th>\n      <th>version</th>\n    </tr>\n  </thead>\n  <tbody>\n    <tr>\n      <th>0</th>\n      <td>[]</td>\n      <td>961791.0</td>\n      <td>Ночью на кухне</td>\n      <td>108205536</td>\n      <td></td>\n    </tr>\n    <tr>\n      <th>1</th>\n      <td>[]</td>\n      <td>852844.0</td>\n      <td>Позвони</td>\n      <td>107314429</td>\n      <td></td>\n    </tr>\n    <tr>\n      <th>2</th>\n      <td>[]</td>\n      <td>643184.0</td>\n      <td>Иностранец</td>\n      <td>107480583</td>\n      <td></td>\n    </tr>\n    <tr>\n      <th>3</th>\n      <td>[]</td>\n      <td>1023430.0</td>\n      <td>По барам</td>\n      <td>104964266</td>\n      <td></td>\n    </tr>\n    <tr>\n      <th>4</th>\n      <td>[]</td>\n      <td>865433.0</td>\n      <td>Стрелы</td>\n      <td>106246540</td>\n      <td></td>\n    </tr>\n  </tbody>\n</table>\n</div>"
     },
     "execution_count": 32,
     "metadata": {},
     "output_type": "execute_result"
    }
   ],
   "source": [
    "raw_meta = pd.read_csv('meta/100000meta.csv', sep=';')\n",
    "raw_meta.drop_duplicates(inplace=True, subset=['track_id'])\n",
    "raw_meta.drop(inplace=True, columns=[\n",
    "    'added', 'albums', 'artist_composer', 'artist_composer_composed',\n",
    "    'artist_performer', 'artist_performer_composed', 'artists', 'artistsName',\n",
    "    'artists_composed', 'clips', 'content_kind', 'duration', 'explicit',\n",
    "    'external_ids', 'genre_ids', 'genres', 'is_russian', 'isrc', 'language',\n",
    "    'lyrics', 'main_album_id', 'main_artist', 'main_artist_composed',\n",
    "    'majors', 'meta_genre_ids', 'meta_genres', 'non_original',\n",
    "    'rating_position', 'rights_regions_geoids', 'rights_regions_info',\n",
    "    'start_date', 'storage_dir_rnd_part', 'stream_30', 'streamers_30',\n",
    "])\n",
    "raw_meta.version = raw_meta.version.fillna('')\n",
    "\n",
    "print(raw_meta.info())\n",
    "raw_meta.head()"
   ],
   "metadata": {
    "collapsed": false
   }
  },
  {
   "cell_type": "code",
   "execution_count": 33,
   "outputs": [
    {
     "name": "stdout",
     "output_type": "stream",
     "text": [
      "<class 'pandas.core.frame.DataFrame'>\n",
      "Int64Index: 100000 entries, 0 to 99999\n",
      "Data columns (total 6 columns):\n",
      " #   Column                   Non-Null Count   Dtype\n",
      "---  ------                   --------------   -----\n",
      " 0   track_id                 100000 non-null  int64\n",
      " 1   rating                   100000 non-null  int64\n",
      " 2   rating_nan               100000 non-null  bool \n",
      " 3   title_regex_flag         100000 non-null  bool \n",
      " 4   other_titles_regex_flag  100000 non-null  bool \n",
      " 5   version_regex_flag       100000 non-null  bool \n",
      "dtypes: bool(4), int64(2)\n",
      "memory usage: 2.7 MB\n",
      "None\n"
     ]
    },
    {
     "data": {
      "text/plain": "    track_id   rating  rating_nan  title_regex_flag  other_titles_regex_flag  \\\n0  108205536   961791       False             False                    False   \n1  107314429   852844       False             False                    False   \n2  107480583   643184       False             False                    False   \n3  104964266  1023430       False             False                    False   \n4  106246540   865433       False             False                    False   \n\n   version_regex_flag  \n0               False  \n1               False  \n2               False  \n3               False  \n4               False  ",
      "text/html": "<div>\n<style scoped>\n    .dataframe tbody tr th:only-of-type {\n        vertical-align: middle;\n    }\n\n    .dataframe tbody tr th {\n        vertical-align: top;\n    }\n\n    .dataframe thead th {\n        text-align: right;\n    }\n</style>\n<table border=\"1\" class=\"dataframe\">\n  <thead>\n    <tr style=\"text-align: right;\">\n      <th></th>\n      <th>track_id</th>\n      <th>rating</th>\n      <th>rating_nan</th>\n      <th>title_regex_flag</th>\n      <th>other_titles_regex_flag</th>\n      <th>version_regex_flag</th>\n    </tr>\n  </thead>\n  <tbody>\n    <tr>\n      <th>0</th>\n      <td>108205536</td>\n      <td>961791</td>\n      <td>False</td>\n      <td>False</td>\n      <td>False</td>\n      <td>False</td>\n    </tr>\n    <tr>\n      <th>1</th>\n      <td>107314429</td>\n      <td>852844</td>\n      <td>False</td>\n      <td>False</td>\n      <td>False</td>\n      <td>False</td>\n    </tr>\n    <tr>\n      <th>2</th>\n      <td>107480583</td>\n      <td>643184</td>\n      <td>False</td>\n      <td>False</td>\n      <td>False</td>\n      <td>False</td>\n    </tr>\n    <tr>\n      <th>3</th>\n      <td>104964266</td>\n      <td>1023430</td>\n      <td>False</td>\n      <td>False</td>\n      <td>False</td>\n      <td>False</td>\n    </tr>\n    <tr>\n      <th>4</th>\n      <td>106246540</td>\n      <td>865433</td>\n      <td>False</td>\n      <td>False</td>\n      <td>False</td>\n      <td>False</td>\n    </tr>\n  </tbody>\n</table>\n</div>"
     },
     "execution_count": 33,
     "metadata": {},
     "output_type": "execute_result"
    }
   ],
   "source": [
    "cover_regex = re.compile(r'\\b(cover|remix)\\b', re.IGNORECASE)\n",
    "\n",
    "df_meta = pd.DataFrame({\n",
    "    'track_id': raw_meta.track_id,\n",
    "    'rating': raw_meta.rating.apply(lambda x: int(x) if pd.notna(x) else 0),\n",
    "    'rating_nan': raw_meta.rating.apply(pd.isna),\n",
    "    'title_regex_flag': raw_meta.title.apply(lambda x: bool(cover_regex.match(x))),\n",
    "    'other_titles_regex_flag': raw_meta.other_titles.apply(lambda x: bool(cover_regex.match(x))),\n",
    "    'version_regex_flag': raw_meta.version.apply(lambda x: bool(cover_regex.match(x))),\n",
    "})\n",
    "\n",
    "print(df_meta.info())\n",
    "df_meta.head()"
   ],
   "metadata": {
    "collapsed": false
   }
  },
  {
   "cell_type": "code",
   "execution_count": 34,
   "id": "b79d8169",
   "metadata": {},
   "outputs": [
    {
     "name": "stdout",
     "output_type": "stream",
     "text": [
      "<class 'pandas.core.frame.DataFrame'>\n",
      "RangeIndex: 2000 entries, 0 to 1999\n",
      "Data columns (total 5 columns):\n",
      " #   Column       Non-Null Count  Dtype \n",
      "---  ------       --------------  ----- \n",
      " 0   rank         2000 non-null   int64 \n",
      " 1   artistId     1997 non-null   object\n",
      " 2   artistsName  1997 non-null   object\n",
      " 3   trackTitle   1997 non-null   object\n",
      " 4   track_id     2000 non-null   int64 \n",
      "dtypes: int64(2), object(3)\n",
      "memory usage: 78.2+ KB\n",
      "None\n"
     ]
    },
    {
     "data": {
      "text/plain": "   rank  artistId        artistsName      trackTitle   track_id\n0     1   4611844  Miyagi & Эндшпиль          Saloon  108315318\n1     2   4611844  Miyagi & Эндшпиль      Silhouette  108315330\n2     3  15691816          ANNA ASTI  Ночью на кухне  108205536\n3     4   3719594         Jah Khalib         Осенняя  108284286\n4     5   6098375            GOARTUR      Иностранец  107480583",
      "text/html": "<div>\n<style scoped>\n    .dataframe tbody tr th:only-of-type {\n        vertical-align: middle;\n    }\n\n    .dataframe tbody tr th {\n        vertical-align: top;\n    }\n\n    .dataframe thead th {\n        text-align: right;\n    }\n</style>\n<table border=\"1\" class=\"dataframe\">\n  <thead>\n    <tr style=\"text-align: right;\">\n      <th></th>\n      <th>rank</th>\n      <th>artistId</th>\n      <th>artistsName</th>\n      <th>trackTitle</th>\n      <th>track_id</th>\n    </tr>\n  </thead>\n  <tbody>\n    <tr>\n      <th>0</th>\n      <td>1</td>\n      <td>4611844</td>\n      <td>Miyagi &amp; Эндшпиль</td>\n      <td>Saloon</td>\n      <td>108315318</td>\n    </tr>\n    <tr>\n      <th>1</th>\n      <td>2</td>\n      <td>4611844</td>\n      <td>Miyagi &amp; Эндшпиль</td>\n      <td>Silhouette</td>\n      <td>108315330</td>\n    </tr>\n    <tr>\n      <th>2</th>\n      <td>3</td>\n      <td>15691816</td>\n      <td>ANNA ASTI</td>\n      <td>Ночью на кухне</td>\n      <td>108205536</td>\n    </tr>\n    <tr>\n      <th>3</th>\n      <td>4</td>\n      <td>3719594</td>\n      <td>Jah Khalib</td>\n      <td>Осенняя</td>\n      <td>108284286</td>\n    </tr>\n    <tr>\n      <th>4</th>\n      <td>5</td>\n      <td>6098375</td>\n      <td>GOARTUR</td>\n      <td>Иностранец</td>\n      <td>107480583</td>\n    </tr>\n  </tbody>\n</table>\n</div>"
     },
     "execution_count": 34,
     "metadata": {},
     "output_type": "execute_result"
    }
   ],
   "source": [
    "main_df = pd.read_csv('ymtop2000.csv', sep=';').dropna(how='all', axis=1)\n",
    "print(main_df.info())\n",
    "main_df.head()"
   ]
  },
  {
   "cell_type": "code",
   "execution_count": 35,
   "id": "513fbf44",
   "metadata": {},
   "outputs": [
    {
     "name": "stdout",
     "output_type": "stream",
     "text": [
      "<class 'pandas.core.frame.DataFrame'>\n",
      "Int64Index: 2000 entries, 0 to 1999\n",
      "Data columns (total 11 columns):\n",
      " #   Column                   Non-Null Count  Dtype \n",
      "---  ------                   --------------  ----- \n",
      " 0   rank                     2000 non-null   int64 \n",
      " 1   artistId                 1997 non-null   object\n",
      " 2   artistsName              1997 non-null   object\n",
      " 3   trackTitle               1997 non-null   object\n",
      " 4   track_id                 2000 non-null   int64 \n",
      " 5   text                     1446 non-null   object\n",
      " 6   rating                   2000 non-null   int64 \n",
      " 7   rating_nan               2000 non-null   bool  \n",
      " 8   title_regex_flag         2000 non-null   bool  \n",
      " 9   other_titles_regex_flag  2000 non-null   bool  \n",
      " 10  version_regex_flag       2000 non-null   bool  \n",
      "dtypes: bool(4), int64(3), object(4)\n",
      "memory usage: 132.8+ KB\n",
      "None\n"
     ]
    },
    {
     "data": {
      "text/plain": "   rank  artistId        artistsName      trackTitle   track_id  \\\n0     1   4611844  Miyagi & Эндшпиль          Saloon  108315318   \n1     2   4611844  Miyagi & Эндшпиль      Silhouette  108315330   \n2     3  15691816          ANNA ASTI  Ночью на кухне  108205536   \n3     4   3719594         Jah Khalib         Осенняя  108284286   \n4     5   6098375            GOARTUR      Иностранец  107480583   \n\n                                                text  rating  rating_nan  \\\n0  В салуне злого вестерна я заливал печаль\\nНас ...  808778       False   \n1  О-уо-о-уо\\nОу-оу-оу-о-о\\n\\nКрадётся лёгкий сил...  852296       False   \n2  Она не боится темноты, как в детстве\\nБольше н...  961791       False   \n3  В сером небе птицы улетят\\nЗастучит опять что-...  441685       False   \n4  Подари мне первый танец\\nЗабери меня с собой\\n...  643184       False   \n\n   title_regex_flag  other_titles_regex_flag  version_regex_flag  \n0             False                    False               False  \n1             False                    False               False  \n2             False                    False               False  \n3             False                    False               False  \n4             False                    False               False  ",
      "text/html": "<div>\n<style scoped>\n    .dataframe tbody tr th:only-of-type {\n        vertical-align: middle;\n    }\n\n    .dataframe tbody tr th {\n        vertical-align: top;\n    }\n\n    .dataframe thead th {\n        text-align: right;\n    }\n</style>\n<table border=\"1\" class=\"dataframe\">\n  <thead>\n    <tr style=\"text-align: right;\">\n      <th></th>\n      <th>rank</th>\n      <th>artistId</th>\n      <th>artistsName</th>\n      <th>trackTitle</th>\n      <th>track_id</th>\n      <th>text</th>\n      <th>rating</th>\n      <th>rating_nan</th>\n      <th>title_regex_flag</th>\n      <th>other_titles_regex_flag</th>\n      <th>version_regex_flag</th>\n    </tr>\n  </thead>\n  <tbody>\n    <tr>\n      <th>0</th>\n      <td>1</td>\n      <td>4611844</td>\n      <td>Miyagi &amp; Эндшпиль</td>\n      <td>Saloon</td>\n      <td>108315318</td>\n      <td>В салуне злого вестерна я заливал печаль\\nНас ...</td>\n      <td>808778</td>\n      <td>False</td>\n      <td>False</td>\n      <td>False</td>\n      <td>False</td>\n    </tr>\n    <tr>\n      <th>1</th>\n      <td>2</td>\n      <td>4611844</td>\n      <td>Miyagi &amp; Эндшпиль</td>\n      <td>Silhouette</td>\n      <td>108315330</td>\n      <td>О-уо-о-уо\\nОу-оу-оу-о-о\\n\\nКрадётся лёгкий сил...</td>\n      <td>852296</td>\n      <td>False</td>\n      <td>False</td>\n      <td>False</td>\n      <td>False</td>\n    </tr>\n    <tr>\n      <th>2</th>\n      <td>3</td>\n      <td>15691816</td>\n      <td>ANNA ASTI</td>\n      <td>Ночью на кухне</td>\n      <td>108205536</td>\n      <td>Она не боится темноты, как в детстве\\nБольше н...</td>\n      <td>961791</td>\n      <td>False</td>\n      <td>False</td>\n      <td>False</td>\n      <td>False</td>\n    </tr>\n    <tr>\n      <th>3</th>\n      <td>4</td>\n      <td>3719594</td>\n      <td>Jah Khalib</td>\n      <td>Осенняя</td>\n      <td>108284286</td>\n      <td>В сером небе птицы улетят\\nЗастучит опять что-...</td>\n      <td>441685</td>\n      <td>False</td>\n      <td>False</td>\n      <td>False</td>\n      <td>False</td>\n    </tr>\n    <tr>\n      <th>4</th>\n      <td>5</td>\n      <td>6098375</td>\n      <td>GOARTUR</td>\n      <td>Иностранец</td>\n      <td>107480583</td>\n      <td>Подари мне первый танец\\nЗабери меня с собой\\n...</td>\n      <td>643184</td>\n      <td>False</td>\n      <td>False</td>\n      <td>False</td>\n      <td>False</td>\n    </tr>\n  </tbody>\n</table>\n</div>"
     },
     "execution_count": 35,
     "metadata": {},
     "output_type": "execute_result"
    }
   ],
   "source": [
    "train_df = main_df.merge(df_texts_full, left_on='track_id', right_on='track_id', how='left')\n",
    "train_df = train_df.merge(df_meta, left_on='track_id', right_on='track_id', how='left')\n",
    "print(train_df.info())\n",
    "train_df.head()"
   ]
  },
  {
   "cell_type": "code",
   "execution_count": 36,
   "id": "0a5fb152",
   "metadata": {},
   "outputs": [
    {
     "name": "stdout",
     "output_type": "stream",
     "text": [
      "<class 'pandas.core.frame.DataFrame'>\n",
      "Int64Index: 1994 entries, 0 to 2017\n",
      "Data columns (total 7 columns):\n",
      " #   Column             Non-Null Count  Dtype \n",
      "---  ------             --------------  ----- \n",
      " 0   INPUT:name         1994 non-null   object\n",
      " 1   INPUT:playlist-1   1994 non-null   object\n",
      " 2   INPUT:playlist-2   1994 non-null   object\n",
      " 3   INPUT:playlist-3   1994 non-null   object\n",
      " 4   INPUT:track        1994 non-null   object\n",
      " 5   OUTPUT:result      1994 non-null   object\n",
      " 6   CONFIDENCE:result  1994 non-null   object\n",
      "dtypes: object(7)\n",
      "memory usage: 124.6+ KB\n",
      "None\n"
     ]
    },
    {
     "data": {
      "text/plain": "                              INPUT:name  \\\n0             Ваня Дмитриенко.31-я весна   \n1                     ANNA ASTI.По барам   \n2  Yves V, Ilkay Sencan, Emie.Not So Bad   \n3               CHEBANOV.Люби меня, люби   \n4            Markul, Тося Чайкина.Стрелы   \n\n                                    INPUT:playlist-1  \\\n0  https://music.yandex.ru/users/music-blog/playl...   \n1  https://music.yandex.ru/users/music-blog/playl...   \n2  https://music.yandex.ru/users/music-blog/playl...   \n3  https://music.yandex.ru/users/music-blog/playl...   \n4  https://music.yandex.ru/users/music-blog/playl...   \n\n                                    INPUT:playlist-2  \\\n0  https://music.yandex.ru/users/music.partners/p...   \n1  https://music.yandex.ru/users/music.partners/p...   \n2  https://music.yandex.ru/users/music.partners/p...   \n3  https://music.yandex.ru/users/music.partners/p...   \n4  https://music.yandex.ru/users/music.partners/p...   \n\n                                    INPUT:playlist-3  \\\n0  https://music.yandex.ru/users/music-blog/playl...   \n1  https://music.yandex.ru/users/music-blog/playl...   \n2  https://music.yandex.ru/users/music-blog/playl...   \n3  https://music.yandex.ru/users/music-blog/playl...   \n4  https://music.yandex.ru/users/music-blog/playl...   \n\n                               INPUT:track OUTPUT:result CONFIDENCE:result  \n0  https://music.yandex.ru/track/108470485           yes            99.99%  \n1  https://music.yandex.ru/track/104964266            no            99.95%  \n2   https://music.yandex.ru/track/61288362           yes            99.99%  \n3  https://music.yandex.ru/track/109274714           yes           100.00%  \n4  https://music.yandex.ru/track/106246540            no            99.99%  ",
      "text/html": "<div>\n<style scoped>\n    .dataframe tbody tr th:only-of-type {\n        vertical-align: middle;\n    }\n\n    .dataframe tbody tr th {\n        vertical-align: top;\n    }\n\n    .dataframe thead th {\n        text-align: right;\n    }\n</style>\n<table border=\"1\" class=\"dataframe\">\n  <thead>\n    <tr style=\"text-align: right;\">\n      <th></th>\n      <th>INPUT:name</th>\n      <th>INPUT:playlist-1</th>\n      <th>INPUT:playlist-2</th>\n      <th>INPUT:playlist-3</th>\n      <th>INPUT:track</th>\n      <th>OUTPUT:result</th>\n      <th>CONFIDENCE:result</th>\n    </tr>\n  </thead>\n  <tbody>\n    <tr>\n      <th>0</th>\n      <td>Ваня Дмитриенко.31-я весна</td>\n      <td>https://music.yandex.ru/users/music-blog/playl...</td>\n      <td>https://music.yandex.ru/users/music.partners/p...</td>\n      <td>https://music.yandex.ru/users/music-blog/playl...</td>\n      <td>https://music.yandex.ru/track/108470485</td>\n      <td>yes</td>\n      <td>99.99%</td>\n    </tr>\n    <tr>\n      <th>1</th>\n      <td>ANNA ASTI.По барам</td>\n      <td>https://music.yandex.ru/users/music-blog/playl...</td>\n      <td>https://music.yandex.ru/users/music.partners/p...</td>\n      <td>https://music.yandex.ru/users/music-blog/playl...</td>\n      <td>https://music.yandex.ru/track/104964266</td>\n      <td>no</td>\n      <td>99.95%</td>\n    </tr>\n    <tr>\n      <th>2</th>\n      <td>Yves V, Ilkay Sencan, Emie.Not So Bad</td>\n      <td>https://music.yandex.ru/users/music-blog/playl...</td>\n      <td>https://music.yandex.ru/users/music.partners/p...</td>\n      <td>https://music.yandex.ru/users/music-blog/playl...</td>\n      <td>https://music.yandex.ru/track/61288362</td>\n      <td>yes</td>\n      <td>99.99%</td>\n    </tr>\n    <tr>\n      <th>3</th>\n      <td>CHEBANOV.Люби меня, люби</td>\n      <td>https://music.yandex.ru/users/music-blog/playl...</td>\n      <td>https://music.yandex.ru/users/music.partners/p...</td>\n      <td>https://music.yandex.ru/users/music-blog/playl...</td>\n      <td>https://music.yandex.ru/track/109274714</td>\n      <td>yes</td>\n      <td>100.00%</td>\n    </tr>\n    <tr>\n      <th>4</th>\n      <td>Markul, Тося Чайкина.Стрелы</td>\n      <td>https://music.yandex.ru/users/music-blog/playl...</td>\n      <td>https://music.yandex.ru/users/music.partners/p...</td>\n      <td>https://music.yandex.ru/users/music-blog/playl...</td>\n      <td>https://music.yandex.ru/track/106246540</td>\n      <td>no</td>\n      <td>99.99%</td>\n    </tr>\n  </tbody>\n</table>\n</div>"
     },
     "execution_count": 36,
     "metadata": {},
     "output_type": "execute_result"
    }
   ],
   "source": [
    "toloka_results_1 = pd.read_csv('Toloka_results/dawid_skene_1.tsv', sep='\\t')\n",
    "toloka_results_2 = pd.read_csv('Toloka_results/dawid_skene_2.tsv', sep='\\t')\n",
    "toloka_results = pd.concat([toloka_results_1, toloka_results_2], ignore_index=True).dropna(how='all', axis=1)\n",
    "toloka_results.drop_duplicates(inplace=True, subset=['INPUT:track'])\n",
    "print(toloka_results.info())\n",
    "toloka_results.head()"
   ]
  },
  {
   "cell_type": "code",
   "execution_count": 37,
   "id": "9fb0dca0",
   "metadata": {},
   "outputs": [],
   "source": [
    "def get_track_id(track_path: str) -> int:\n",
    "    return int(track_path.split('/')[-1])"
   ]
  },
  {
   "cell_type": "code",
   "execution_count": 38,
   "id": "3d01bf55",
   "metadata": {},
   "outputs": [
    {
     "name": "stdout",
     "output_type": "stream",
     "text": [
      "<class 'pandas.core.frame.DataFrame'>\n",
      "Int64Index: 1994 entries, 0 to 2017\n",
      "Data columns (total 4 columns):\n",
      " #   Column             Non-Null Count  Dtype \n",
      "---  ------             --------------  ----- \n",
      " 0   INPUT:name         1994 non-null   object\n",
      " 1   OUTPUT:result      1994 non-null   object\n",
      " 2   CONFIDENCE:result  1994 non-null   object\n",
      " 3   track_id           1994 non-null   int64 \n",
      "dtypes: int64(1), object(3)\n",
      "memory usage: 77.9+ KB\n",
      "None\n"
     ]
    },
    {
     "data": {
      "text/plain": "                              INPUT:name OUTPUT:result CONFIDENCE:result  \\\n0             Ваня Дмитриенко.31-я весна           yes            99.99%   \n1                     ANNA ASTI.По барам            no            99.95%   \n2  Yves V, Ilkay Sencan, Emie.Not So Bad           yes            99.99%   \n3               CHEBANOV.Люби меня, люби           yes           100.00%   \n4            Markul, Тося Чайкина.Стрелы            no            99.99%   \n\n    track_id  \n0  108470485  \n1  104964266  \n2   61288362  \n3  109274714  \n4  106246540  ",
      "text/html": "<div>\n<style scoped>\n    .dataframe tbody tr th:only-of-type {\n        vertical-align: middle;\n    }\n\n    .dataframe tbody tr th {\n        vertical-align: top;\n    }\n\n    .dataframe thead th {\n        text-align: right;\n    }\n</style>\n<table border=\"1\" class=\"dataframe\">\n  <thead>\n    <tr style=\"text-align: right;\">\n      <th></th>\n      <th>INPUT:name</th>\n      <th>OUTPUT:result</th>\n      <th>CONFIDENCE:result</th>\n      <th>track_id</th>\n    </tr>\n  </thead>\n  <tbody>\n    <tr>\n      <th>0</th>\n      <td>Ваня Дмитриенко.31-я весна</td>\n      <td>yes</td>\n      <td>99.99%</td>\n      <td>108470485</td>\n    </tr>\n    <tr>\n      <th>1</th>\n      <td>ANNA ASTI.По барам</td>\n      <td>no</td>\n      <td>99.95%</td>\n      <td>104964266</td>\n    </tr>\n    <tr>\n      <th>2</th>\n      <td>Yves V, Ilkay Sencan, Emie.Not So Bad</td>\n      <td>yes</td>\n      <td>99.99%</td>\n      <td>61288362</td>\n    </tr>\n    <tr>\n      <th>3</th>\n      <td>CHEBANOV.Люби меня, люби</td>\n      <td>yes</td>\n      <td>100.00%</td>\n      <td>109274714</td>\n    </tr>\n    <tr>\n      <th>4</th>\n      <td>Markul, Тося Чайкина.Стрелы</td>\n      <td>no</td>\n      <td>99.99%</td>\n      <td>106246540</td>\n    </tr>\n  </tbody>\n</table>\n</div>"
     },
     "execution_count": 38,
     "metadata": {},
     "output_type": "execute_result"
    }
   ],
   "source": [
    "toloka_results['track_id'] = toloka_results['INPUT:track'].apply(get_track_id)\n",
    "toloka_results.drop(\n",
    "    columns=['INPUT:playlist-1', 'INPUT:playlist-2', 'INPUT:playlist-3', 'INPUT:track'],\n",
    "    inplace=True,\n",
    ")\n",
    "toloka_results.drop_duplicates(inplace=True, subset=['track_id'])\n",
    "print(toloka_results.info())\n",
    "toloka_results.head()"
   ]
  },
  {
   "cell_type": "code",
   "execution_count": 39,
   "outputs": [
    {
     "data": {
      "text/plain": "      rank  artistId        artistsName      trackTitle   track_id\n0        1   4611844  Miyagi & Эндшпиль          Saloon  108315318\n2        3  15691816          ANNA ASTI  Ночью на кухне  108205536\n3        4   3719594         Jah Khalib         Осенняя  108284286\n6        7   6229247  GAYAZOV$ BROTHER$           ФАИНА  107948955\n42      43   6467364                 NЮ   Некуда бежать  107058193\n659    660       NaN                NaN             NaN  107429485\n860    861       NaN                NaN             NaN  107446873\n1430  1431       NaN                NaN             NaN   27198553",
      "text/html": "<div>\n<style scoped>\n    .dataframe tbody tr th:only-of-type {\n        vertical-align: middle;\n    }\n\n    .dataframe tbody tr th {\n        vertical-align: top;\n    }\n\n    .dataframe thead th {\n        text-align: right;\n    }\n</style>\n<table border=\"1\" class=\"dataframe\">\n  <thead>\n    <tr style=\"text-align: right;\">\n      <th></th>\n      <th>rank</th>\n      <th>artistId</th>\n      <th>artistsName</th>\n      <th>trackTitle</th>\n      <th>track_id</th>\n    </tr>\n  </thead>\n  <tbody>\n    <tr>\n      <th>0</th>\n      <td>1</td>\n      <td>4611844</td>\n      <td>Miyagi &amp; Эндшпиль</td>\n      <td>Saloon</td>\n      <td>108315318</td>\n    </tr>\n    <tr>\n      <th>2</th>\n      <td>3</td>\n      <td>15691816</td>\n      <td>ANNA ASTI</td>\n      <td>Ночью на кухне</td>\n      <td>108205536</td>\n    </tr>\n    <tr>\n      <th>3</th>\n      <td>4</td>\n      <td>3719594</td>\n      <td>Jah Khalib</td>\n      <td>Осенняя</td>\n      <td>108284286</td>\n    </tr>\n    <tr>\n      <th>6</th>\n      <td>7</td>\n      <td>6229247</td>\n      <td>GAYAZOV$ BROTHER$</td>\n      <td>ФАИНА</td>\n      <td>107948955</td>\n    </tr>\n    <tr>\n      <th>42</th>\n      <td>43</td>\n      <td>6467364</td>\n      <td>NЮ</td>\n      <td>Некуда бежать</td>\n      <td>107058193</td>\n    </tr>\n    <tr>\n      <th>659</th>\n      <td>660</td>\n      <td>NaN</td>\n      <td>NaN</td>\n      <td>NaN</td>\n      <td>107429485</td>\n    </tr>\n    <tr>\n      <th>860</th>\n      <td>861</td>\n      <td>NaN</td>\n      <td>NaN</td>\n      <td>NaN</td>\n      <td>107446873</td>\n    </tr>\n    <tr>\n      <th>1430</th>\n      <td>1431</td>\n      <td>NaN</td>\n      <td>NaN</td>\n      <td>NaN</td>\n      <td>27198553</td>\n    </tr>\n  </tbody>\n</table>\n</div>"
     },
     "execution_count": 39,
     "metadata": {},
     "output_type": "execute_result"
    }
   ],
   "source": [
    "main_df[~main_df.track_id.isin(toloka_results.track_id)]"
   ],
   "metadata": {
    "collapsed": false
   }
  },
  {
   "cell_type": "code",
   "execution_count": 40,
   "id": "6271e8b1",
   "metadata": {},
   "outputs": [
    {
     "name": "stdout",
     "output_type": "stream",
     "text": [
      "<class 'pandas.core.frame.DataFrame'>\n",
      "Int64Index: 2000 entries, 0 to 1999\n",
      "Data columns (total 14 columns):\n",
      " #   Column                   Non-Null Count  Dtype \n",
      "---  ------                   --------------  ----- \n",
      " 0   rank                     2000 non-null   int64 \n",
      " 1   artistId                 1997 non-null   object\n",
      " 2   artistsName              1997 non-null   object\n",
      " 3   trackTitle               1997 non-null   object\n",
      " 4   track_id                 2000 non-null   int64 \n",
      " 5   text                     1446 non-null   object\n",
      " 6   rating                   2000 non-null   int64 \n",
      " 7   rating_nan               2000 non-null   bool  \n",
      " 8   title_regex_flag         2000 non-null   bool  \n",
      " 9   other_titles_regex_flag  2000 non-null   bool  \n",
      " 10  version_regex_flag       2000 non-null   bool  \n",
      " 11  INPUT:name               1992 non-null   object\n",
      " 12  OUTPUT:result            1992 non-null   object\n",
      " 13  CONFIDENCE:result        1992 non-null   object\n",
      "dtypes: bool(4), int64(3), object(7)\n",
      "memory usage: 179.7+ KB\n",
      "None\n"
     ]
    },
    {
     "data": {
      "text/plain": "   rank  artistId        artistsName      trackTitle   track_id  \\\n0     1   4611844  Miyagi & Эндшпиль          Saloon  108315318   \n1     2   4611844  Miyagi & Эндшпиль      Silhouette  108315330   \n2     3  15691816          ANNA ASTI  Ночью на кухне  108205536   \n3     4   3719594         Jah Khalib         Осенняя  108284286   \n4     5   6098375            GOARTUR      Иностранец  107480583   \n\n                                                text  rating  rating_nan  \\\n0  В салуне злого вестерна я заливал печаль\\nНас ...  808778       False   \n1  О-уо-о-уо\\nОу-оу-оу-о-о\\n\\nКрадётся лёгкий сил...  852296       False   \n2  Она не боится темноты, как в детстве\\nБольше н...  961791       False   \n3  В сером небе птицы улетят\\nЗастучит опять что-...  441685       False   \n4  Подари мне первый танец\\nЗабери меня с собой\\n...  643184       False   \n\n   title_regex_flag  other_titles_regex_flag  version_regex_flag  \\\n0             False                    False               False   \n1             False                    False               False   \n2             False                    False               False   \n3             False                    False               False   \n4             False                    False               False   \n\n                     INPUT:name OUTPUT:result CONFIDENCE:result  \n0                           NaN           NaN               NaN  \n1  Miyagi & Эндшпиль.Silhouette            no            99.99%  \n2                           NaN           NaN               NaN  \n3                           NaN           NaN               NaN  \n4            GOARTUR.Иностранец           yes           100.00%  ",
      "text/html": "<div>\n<style scoped>\n    .dataframe tbody tr th:only-of-type {\n        vertical-align: middle;\n    }\n\n    .dataframe tbody tr th {\n        vertical-align: top;\n    }\n\n    .dataframe thead th {\n        text-align: right;\n    }\n</style>\n<table border=\"1\" class=\"dataframe\">\n  <thead>\n    <tr style=\"text-align: right;\">\n      <th></th>\n      <th>rank</th>\n      <th>artistId</th>\n      <th>artistsName</th>\n      <th>trackTitle</th>\n      <th>track_id</th>\n      <th>text</th>\n      <th>rating</th>\n      <th>rating_nan</th>\n      <th>title_regex_flag</th>\n      <th>other_titles_regex_flag</th>\n      <th>version_regex_flag</th>\n      <th>INPUT:name</th>\n      <th>OUTPUT:result</th>\n      <th>CONFIDENCE:result</th>\n    </tr>\n  </thead>\n  <tbody>\n    <tr>\n      <th>0</th>\n      <td>1</td>\n      <td>4611844</td>\n      <td>Miyagi &amp; Эндшпиль</td>\n      <td>Saloon</td>\n      <td>108315318</td>\n      <td>В салуне злого вестерна я заливал печаль\\nНас ...</td>\n      <td>808778</td>\n      <td>False</td>\n      <td>False</td>\n      <td>False</td>\n      <td>False</td>\n      <td>NaN</td>\n      <td>NaN</td>\n      <td>NaN</td>\n    </tr>\n    <tr>\n      <th>1</th>\n      <td>2</td>\n      <td>4611844</td>\n      <td>Miyagi &amp; Эндшпиль</td>\n      <td>Silhouette</td>\n      <td>108315330</td>\n      <td>О-уо-о-уо\\nОу-оу-оу-о-о\\n\\nКрадётся лёгкий сил...</td>\n      <td>852296</td>\n      <td>False</td>\n      <td>False</td>\n      <td>False</td>\n      <td>False</td>\n      <td>Miyagi &amp; Эндшпиль.Silhouette</td>\n      <td>no</td>\n      <td>99.99%</td>\n    </tr>\n    <tr>\n      <th>2</th>\n      <td>3</td>\n      <td>15691816</td>\n      <td>ANNA ASTI</td>\n      <td>Ночью на кухне</td>\n      <td>108205536</td>\n      <td>Она не боится темноты, как в детстве\\nБольше н...</td>\n      <td>961791</td>\n      <td>False</td>\n      <td>False</td>\n      <td>False</td>\n      <td>False</td>\n      <td>NaN</td>\n      <td>NaN</td>\n      <td>NaN</td>\n    </tr>\n    <tr>\n      <th>3</th>\n      <td>4</td>\n      <td>3719594</td>\n      <td>Jah Khalib</td>\n      <td>Осенняя</td>\n      <td>108284286</td>\n      <td>В сером небе птицы улетят\\nЗастучит опять что-...</td>\n      <td>441685</td>\n      <td>False</td>\n      <td>False</td>\n      <td>False</td>\n      <td>False</td>\n      <td>NaN</td>\n      <td>NaN</td>\n      <td>NaN</td>\n    </tr>\n    <tr>\n      <th>4</th>\n      <td>5</td>\n      <td>6098375</td>\n      <td>GOARTUR</td>\n      <td>Иностранец</td>\n      <td>107480583</td>\n      <td>Подари мне первый танец\\nЗабери меня с собой\\n...</td>\n      <td>643184</td>\n      <td>False</td>\n      <td>False</td>\n      <td>False</td>\n      <td>False</td>\n      <td>GOARTUR.Иностранец</td>\n      <td>yes</td>\n      <td>100.00%</td>\n    </tr>\n  </tbody>\n</table>\n</div>"
     },
     "execution_count": 40,
     "metadata": {},
     "output_type": "execute_result"
    }
   ],
   "source": [
    "train_df = train_df.merge(toloka_results, left_on='track_id', right_on='track_id', how='left')\n",
    "print(train_df.info())\n",
    "train_df.head()"
   ]
  },
  {
   "cell_type": "code",
   "execution_count": 41,
   "id": "39b40986",
   "metadata": {},
   "outputs": [],
   "source": [
    "final_train = train_df.copy()"
   ]
  },
  {
   "cell_type": "code",
   "execution_count": 42,
   "id": "2f2833fe",
   "metadata": {},
   "outputs": [
    {
     "data": {
      "text/plain": "Index(['rank', 'artistId', 'artistsName', 'trackTitle', 'track_id', 'text',\n       'rating', 'rating_nan', 'title_regex_flag', 'other_titles_regex_flag',\n       'version_regex_flag', 'INPUT:name', 'OUTPUT:result',\n       'CONFIDENCE:result'],\n      dtype='object')"
     },
     "execution_count": 42,
     "metadata": {},
     "output_type": "execute_result"
    }
   ],
   "source": [
    "final_train.columns"
   ]
  },
  {
   "cell_type": "code",
   "execution_count": 43,
   "id": "1da626be",
   "metadata": {},
   "outputs": [
    {
     "name": "stdout",
     "output_type": "stream",
     "text": [
      "<class 'pandas.core.frame.DataFrame'>\n",
      "Int64Index: 2000 entries, 0 to 1999\n",
      "Data columns (total 5 columns):\n",
      " #   Column         Non-Null Count  Dtype \n",
      "---  ------         --------------  ----- \n",
      " 0   track_id       2000 non-null   int64 \n",
      " 1   artistsName    1997 non-null   object\n",
      " 2   trackTitle     1997 non-null   object\n",
      " 3   text           1446 non-null   object\n",
      " 4   OUTPUT:result  1992 non-null   object\n",
      "dtypes: int64(1), object(4)\n",
      "memory usage: 93.8+ KB\n",
      "None\n"
     ]
    },
    {
     "data": {
      "text/plain": "    track_id        artistsName      trackTitle  \\\n0  108315318  Miyagi & Эндшпиль          Saloon   \n1  108315330  Miyagi & Эндшпиль      Silhouette   \n2  108205536          ANNA ASTI  Ночью на кухне   \n3  108284286         Jah Khalib         Осенняя   \n4  107480583            GOARTUR      Иностранец   \n\n                                                text OUTPUT:result  \n0  В салуне злого вестерна я заливал печаль\\nНас ...           NaN  \n1  О-уо-о-уо\\nОу-оу-оу-о-о\\n\\nКрадётся лёгкий сил...            no  \n2  Она не боится темноты, как в детстве\\nБольше н...           NaN  \n3  В сером небе птицы улетят\\nЗастучит опять что-...           NaN  \n4  Подари мне первый танец\\nЗабери меня с собой\\n...           yes  ",
      "text/html": "<div>\n<style scoped>\n    .dataframe tbody tr th:only-of-type {\n        vertical-align: middle;\n    }\n\n    .dataframe tbody tr th {\n        vertical-align: top;\n    }\n\n    .dataframe thead th {\n        text-align: right;\n    }\n</style>\n<table border=\"1\" class=\"dataframe\">\n  <thead>\n    <tr style=\"text-align: right;\">\n      <th></th>\n      <th>track_id</th>\n      <th>artistsName</th>\n      <th>trackTitle</th>\n      <th>text</th>\n      <th>OUTPUT:result</th>\n    </tr>\n  </thead>\n  <tbody>\n    <tr>\n      <th>0</th>\n      <td>108315318</td>\n      <td>Miyagi &amp; Эндшпиль</td>\n      <td>Saloon</td>\n      <td>В салуне злого вестерна я заливал печаль\\nНас ...</td>\n      <td>NaN</td>\n    </tr>\n    <tr>\n      <th>1</th>\n      <td>108315330</td>\n      <td>Miyagi &amp; Эндшпиль</td>\n      <td>Silhouette</td>\n      <td>О-уо-о-уо\\nОу-оу-оу-о-о\\n\\nКрадётся лёгкий сил...</td>\n      <td>no</td>\n    </tr>\n    <tr>\n      <th>2</th>\n      <td>108205536</td>\n      <td>ANNA ASTI</td>\n      <td>Ночью на кухне</td>\n      <td>Она не боится темноты, как в детстве\\nБольше н...</td>\n      <td>NaN</td>\n    </tr>\n    <tr>\n      <th>3</th>\n      <td>108284286</td>\n      <td>Jah Khalib</td>\n      <td>Осенняя</td>\n      <td>В сером небе птицы улетят\\nЗастучит опять что-...</td>\n      <td>NaN</td>\n    </tr>\n    <tr>\n      <th>4</th>\n      <td>107480583</td>\n      <td>GOARTUR</td>\n      <td>Иностранец</td>\n      <td>Подари мне первый танец\\nЗабери меня с собой\\n...</td>\n      <td>yes</td>\n    </tr>\n  </tbody>\n</table>\n</div>"
     },
     "execution_count": 43,
     "metadata": {},
     "output_type": "execute_result"
    }
   ],
   "source": [
    "final_train = final_train[['track_id', 'artistsName', 'trackTitle', 'text', 'OUTPUT:result']]\n",
    "final_train.drop_duplicates(inplace=True)\n",
    "print(final_train.info())\n",
    "final_train.head()"
   ]
  },
  {
   "cell_type": "code",
   "execution_count": 44,
   "id": "c3ba5268",
   "metadata": {},
   "outputs": [],
   "source": [
    "def get_binary_result(result):\n",
    "    if result == 'yes':\n",
    "        return 1\n",
    "    if result == 'no':\n",
    "        return 0\n",
    "    else:\n",
    "        return -1"
   ]
  },
  {
   "cell_type": "code",
   "execution_count": 45,
   "id": "d64dd52c",
   "metadata": {},
   "outputs": [],
   "source": [
    "final_train['isCover'] = final_train['OUTPUT:result'].apply(get_binary_result)"
   ]
  },
  {
   "cell_type": "code",
   "execution_count": 46,
   "id": "4120a3ca",
   "metadata": {},
   "outputs": [
    {
     "data": {
      "text/plain": "no     1743\nyes     249\nName: OUTPUT:result, dtype: int64"
     },
     "execution_count": 46,
     "metadata": {},
     "output_type": "execute_result"
    }
   ],
   "source": [
    "final_train['OUTPUT:result'].value_counts()"
   ]
  },
  {
   "cell_type": "code",
   "execution_count": 47,
   "id": "9bcbb437",
   "metadata": {},
   "outputs": [
    {
     "data": {
      "text/plain": "       track_id        artistsName      trackTitle  \\\n0     108315318  Miyagi & Эндшпиль          Saloon   \n1     108315330  Miyagi & Эндшпиль      Silhouette   \n2     108205536          ANNA ASTI  Ночью на кухне   \n3     108284286         Jah Khalib         Осенняя   \n4     107480583            GOARTUR      Иностранец   \n...         ...                ...             ...   \n1995  104956980             Bonsai    Грела сердце   \n1996   22408881            Kaleida           Think   \n1997   84608215         GraveChill        Twilight   \n1998   64641986                Lav           Wavvy   \n1999   50684592     Jonas Brothers          Sucker   \n\n                                                   text OUTPUT:result  isCover  \n0     В салуне злого вестерна я заливал печаль\\nНас ...           NaN       -1  \n1     О-уо-о-уо\\nОу-оу-оу-о-о\\n\\nКрадётся лёгкий сил...            no        0  \n2     Она не боится темноты, как в детстве\\nБольше н...           NaN       -1  \n3     В сером небе птицы улетят\\nЗастучит опять что-...           NaN       -1  \n4     Подари мне первый танец\\nЗабери меня с собой\\n...           yes        1  \n...                                                 ...           ...      ...  \n1995  Дева грела сердце человеку у костра\\nКрепко об...            no        0  \n1996  Go ahead, you're taking me down now\\nGive me, ...            no        0  \n1997                                                NaN            no        0  \n1998  I know you like me in the dark\\nBut when my ca...            no        0  \n1999  We go together\\nBetter than birds of a feather...            no        0  \n\n[2000 rows x 6 columns]",
      "text/html": "<div>\n<style scoped>\n    .dataframe tbody tr th:only-of-type {\n        vertical-align: middle;\n    }\n\n    .dataframe tbody tr th {\n        vertical-align: top;\n    }\n\n    .dataframe thead th {\n        text-align: right;\n    }\n</style>\n<table border=\"1\" class=\"dataframe\">\n  <thead>\n    <tr style=\"text-align: right;\">\n      <th></th>\n      <th>track_id</th>\n      <th>artistsName</th>\n      <th>trackTitle</th>\n      <th>text</th>\n      <th>OUTPUT:result</th>\n      <th>isCover</th>\n    </tr>\n  </thead>\n  <tbody>\n    <tr>\n      <th>0</th>\n      <td>108315318</td>\n      <td>Miyagi &amp; Эндшпиль</td>\n      <td>Saloon</td>\n      <td>В салуне злого вестерна я заливал печаль\\nНас ...</td>\n      <td>NaN</td>\n      <td>-1</td>\n    </tr>\n    <tr>\n      <th>1</th>\n      <td>108315330</td>\n      <td>Miyagi &amp; Эндшпиль</td>\n      <td>Silhouette</td>\n      <td>О-уо-о-уо\\nОу-оу-оу-о-о\\n\\nКрадётся лёгкий сил...</td>\n      <td>no</td>\n      <td>0</td>\n    </tr>\n    <tr>\n      <th>2</th>\n      <td>108205536</td>\n      <td>ANNA ASTI</td>\n      <td>Ночью на кухне</td>\n      <td>Она не боится темноты, как в детстве\\nБольше н...</td>\n      <td>NaN</td>\n      <td>-1</td>\n    </tr>\n    <tr>\n      <th>3</th>\n      <td>108284286</td>\n      <td>Jah Khalib</td>\n      <td>Осенняя</td>\n      <td>В сером небе птицы улетят\\nЗастучит опять что-...</td>\n      <td>NaN</td>\n      <td>-1</td>\n    </tr>\n    <tr>\n      <th>4</th>\n      <td>107480583</td>\n      <td>GOARTUR</td>\n      <td>Иностранец</td>\n      <td>Подари мне первый танец\\nЗабери меня с собой\\n...</td>\n      <td>yes</td>\n      <td>1</td>\n    </tr>\n    <tr>\n      <th>...</th>\n      <td>...</td>\n      <td>...</td>\n      <td>...</td>\n      <td>...</td>\n      <td>...</td>\n      <td>...</td>\n    </tr>\n    <tr>\n      <th>1995</th>\n      <td>104956980</td>\n      <td>Bonsai</td>\n      <td>Грела сердце</td>\n      <td>Дева грела сердце человеку у костра\\nКрепко об...</td>\n      <td>no</td>\n      <td>0</td>\n    </tr>\n    <tr>\n      <th>1996</th>\n      <td>22408881</td>\n      <td>Kaleida</td>\n      <td>Think</td>\n      <td>Go ahead, you're taking me down now\\nGive me, ...</td>\n      <td>no</td>\n      <td>0</td>\n    </tr>\n    <tr>\n      <th>1997</th>\n      <td>84608215</td>\n      <td>GraveChill</td>\n      <td>Twilight</td>\n      <td>NaN</td>\n      <td>no</td>\n      <td>0</td>\n    </tr>\n    <tr>\n      <th>1998</th>\n      <td>64641986</td>\n      <td>Lav</td>\n      <td>Wavvy</td>\n      <td>I know you like me in the dark\\nBut when my ca...</td>\n      <td>no</td>\n      <td>0</td>\n    </tr>\n    <tr>\n      <th>1999</th>\n      <td>50684592</td>\n      <td>Jonas Brothers</td>\n      <td>Sucker</td>\n      <td>We go together\\nBetter than birds of a feather...</td>\n      <td>no</td>\n      <td>0</td>\n    </tr>\n  </tbody>\n</table>\n<p>2000 rows × 6 columns</p>\n</div>"
     },
     "execution_count": 47,
     "metadata": {},
     "output_type": "execute_result"
    }
   ],
   "source": [
    "final_train"
   ]
  },
  {
   "cell_type": "code",
   "execution_count": 48,
   "id": "7892d852",
   "metadata": {},
   "outputs": [],
   "source": [
    "final_train['artistsName'] = final_train['artistsName'].fillna('')\n",
    "final_train['trackTitle'] = final_train['trackTitle'].fillna('')"
   ]
  },
  {
   "cell_type": "code",
   "execution_count": 49,
   "id": "8bad5d6b",
   "metadata": {},
   "outputs": [],
   "source": [
    "final_train = final_train[(final_train['artistsName'] != '') & (final_train['trackTitle'] != '')]"
   ]
  },
  {
   "cell_type": "code",
   "execution_count": 50,
   "id": "5415db6d",
   "metadata": {},
   "outputs": [
    {
     "data": {
      "text/plain": "       track_id        artistsName      trackTitle  \\\n0     108315318  Miyagi & Эндшпиль          Saloon   \n1     108315330  Miyagi & Эндшпиль      Silhouette   \n2     108205536          ANNA ASTI  Ночью на кухне   \n3     108284286         Jah Khalib         Осенняя   \n4     107480583            GOARTUR      Иностранец   \n...         ...                ...             ...   \n1995  104956980             Bonsai    Грела сердце   \n1996   22408881            Kaleida           Think   \n1997   84608215         GraveChill        Twilight   \n1998   64641986                Lav           Wavvy   \n1999   50684592     Jonas Brothers          Sucker   \n\n                                                   text OUTPUT:result  isCover  \n0     В салуне злого вестерна я заливал печаль\\nНас ...           NaN       -1  \n1     О-уо-о-уо\\nОу-оу-оу-о-о\\n\\nКрадётся лёгкий сил...            no        0  \n2     Она не боится темноты, как в детстве\\nБольше н...           NaN       -1  \n3     В сером небе птицы улетят\\nЗастучит опять что-...           NaN       -1  \n4     Подари мне первый танец\\nЗабери меня с собой\\n...           yes        1  \n...                                                 ...           ...      ...  \n1995  Дева грела сердце человеку у костра\\nКрепко об...            no        0  \n1996  Go ahead, you're taking me down now\\nGive me, ...            no        0  \n1997                                                NaN            no        0  \n1998  I know you like me in the dark\\nBut when my ca...            no        0  \n1999  We go together\\nBetter than birds of a feather...            no        0  \n\n[1997 rows x 6 columns]",
      "text/html": "<div>\n<style scoped>\n    .dataframe tbody tr th:only-of-type {\n        vertical-align: middle;\n    }\n\n    .dataframe tbody tr th {\n        vertical-align: top;\n    }\n\n    .dataframe thead th {\n        text-align: right;\n    }\n</style>\n<table border=\"1\" class=\"dataframe\">\n  <thead>\n    <tr style=\"text-align: right;\">\n      <th></th>\n      <th>track_id</th>\n      <th>artistsName</th>\n      <th>trackTitle</th>\n      <th>text</th>\n      <th>OUTPUT:result</th>\n      <th>isCover</th>\n    </tr>\n  </thead>\n  <tbody>\n    <tr>\n      <th>0</th>\n      <td>108315318</td>\n      <td>Miyagi &amp; Эндшпиль</td>\n      <td>Saloon</td>\n      <td>В салуне злого вестерна я заливал печаль\\nНас ...</td>\n      <td>NaN</td>\n      <td>-1</td>\n    </tr>\n    <tr>\n      <th>1</th>\n      <td>108315330</td>\n      <td>Miyagi &amp; Эндшпиль</td>\n      <td>Silhouette</td>\n      <td>О-уо-о-уо\\nОу-оу-оу-о-о\\n\\nКрадётся лёгкий сил...</td>\n      <td>no</td>\n      <td>0</td>\n    </tr>\n    <tr>\n      <th>2</th>\n      <td>108205536</td>\n      <td>ANNA ASTI</td>\n      <td>Ночью на кухне</td>\n      <td>Она не боится темноты, как в детстве\\nБольше н...</td>\n      <td>NaN</td>\n      <td>-1</td>\n    </tr>\n    <tr>\n      <th>3</th>\n      <td>108284286</td>\n      <td>Jah Khalib</td>\n      <td>Осенняя</td>\n      <td>В сером небе птицы улетят\\nЗастучит опять что-...</td>\n      <td>NaN</td>\n      <td>-1</td>\n    </tr>\n    <tr>\n      <th>4</th>\n      <td>107480583</td>\n      <td>GOARTUR</td>\n      <td>Иностранец</td>\n      <td>Подари мне первый танец\\nЗабери меня с собой\\n...</td>\n      <td>yes</td>\n      <td>1</td>\n    </tr>\n    <tr>\n      <th>...</th>\n      <td>...</td>\n      <td>...</td>\n      <td>...</td>\n      <td>...</td>\n      <td>...</td>\n      <td>...</td>\n    </tr>\n    <tr>\n      <th>1995</th>\n      <td>104956980</td>\n      <td>Bonsai</td>\n      <td>Грела сердце</td>\n      <td>Дева грела сердце человеку у костра\\nКрепко об...</td>\n      <td>no</td>\n      <td>0</td>\n    </tr>\n    <tr>\n      <th>1996</th>\n      <td>22408881</td>\n      <td>Kaleida</td>\n      <td>Think</td>\n      <td>Go ahead, you're taking me down now\\nGive me, ...</td>\n      <td>no</td>\n      <td>0</td>\n    </tr>\n    <tr>\n      <th>1997</th>\n      <td>84608215</td>\n      <td>GraveChill</td>\n      <td>Twilight</td>\n      <td>NaN</td>\n      <td>no</td>\n      <td>0</td>\n    </tr>\n    <tr>\n      <th>1998</th>\n      <td>64641986</td>\n      <td>Lav</td>\n      <td>Wavvy</td>\n      <td>I know you like me in the dark\\nBut when my ca...</td>\n      <td>no</td>\n      <td>0</td>\n    </tr>\n    <tr>\n      <th>1999</th>\n      <td>50684592</td>\n      <td>Jonas Brothers</td>\n      <td>Sucker</td>\n      <td>We go together\\nBetter than birds of a feather...</td>\n      <td>no</td>\n      <td>0</td>\n    </tr>\n  </tbody>\n</table>\n<p>1997 rows × 6 columns</p>\n</div>"
     },
     "execution_count": 50,
     "metadata": {},
     "output_type": "execute_result"
    }
   ],
   "source": [
    "final_train"
   ]
  },
  {
   "cell_type": "code",
   "execution_count": 51,
   "id": "590fd889",
   "metadata": {},
   "outputs": [],
   "source": [
    "del final_train['OUTPUT:result']"
   ]
  },
  {
   "cell_type": "code",
   "execution_count": 52,
   "id": "158c7b0a",
   "metadata": {},
   "outputs": [
    {
     "data": {
      "text/plain": "     track_id        artistsName      trackTitle  \\\n0   108315318  Miyagi & Эндшпиль          Saloon   \n2   108205536          ANNA ASTI  Ночью на кухне   \n3   108284286         Jah Khalib         Осенняя   \n6   107948955  GAYAZOV$ BROTHER$           ФАИНА   \n42  107058193                 NЮ   Некуда бежать   \n\n                                                 text  isCover  \n0   В салуне злого вестерна я заливал печаль\\nНас ...       -1  \n2   Она не боится темноты, как в детстве\\nБольше н...       -1  \n3   В сером небе птицы улетят\\nЗастучит опять что-...       -1  \n6   Ай, где же счастье, словно талый снег?\\nГде ж,...       -1  \n42  И бежать мне больше некуда, не к кому, незачем...       -1  ",
      "text/html": "<div>\n<style scoped>\n    .dataframe tbody tr th:only-of-type {\n        vertical-align: middle;\n    }\n\n    .dataframe tbody tr th {\n        vertical-align: top;\n    }\n\n    .dataframe thead th {\n        text-align: right;\n    }\n</style>\n<table border=\"1\" class=\"dataframe\">\n  <thead>\n    <tr style=\"text-align: right;\">\n      <th></th>\n      <th>track_id</th>\n      <th>artistsName</th>\n      <th>trackTitle</th>\n      <th>text</th>\n      <th>isCover</th>\n    </tr>\n  </thead>\n  <tbody>\n    <tr>\n      <th>0</th>\n      <td>108315318</td>\n      <td>Miyagi &amp; Эндшпиль</td>\n      <td>Saloon</td>\n      <td>В салуне злого вестерна я заливал печаль\\nНас ...</td>\n      <td>-1</td>\n    </tr>\n    <tr>\n      <th>2</th>\n      <td>108205536</td>\n      <td>ANNA ASTI</td>\n      <td>Ночью на кухне</td>\n      <td>Она не боится темноты, как в детстве\\nБольше н...</td>\n      <td>-1</td>\n    </tr>\n    <tr>\n      <th>3</th>\n      <td>108284286</td>\n      <td>Jah Khalib</td>\n      <td>Осенняя</td>\n      <td>В сером небе птицы улетят\\nЗастучит опять что-...</td>\n      <td>-1</td>\n    </tr>\n    <tr>\n      <th>6</th>\n      <td>107948955</td>\n      <td>GAYAZOV$ BROTHER$</td>\n      <td>ФАИНА</td>\n      <td>Ай, где же счастье, словно талый снег?\\nГде ж,...</td>\n      <td>-1</td>\n    </tr>\n    <tr>\n      <th>42</th>\n      <td>107058193</td>\n      <td>NЮ</td>\n      <td>Некуда бежать</td>\n      <td>И бежать мне больше некуда, не к кому, незачем...</td>\n      <td>-1</td>\n    </tr>\n  </tbody>\n</table>\n</div>"
     },
     "execution_count": 52,
     "metadata": {},
     "output_type": "execute_result"
    }
   ],
   "source": [
    "prom = final_train[final_train['isCover'] == -1]\n",
    "prom"
   ]
  },
  {
   "cell_type": "code",
   "execution_count": 53,
   "id": "f0756955",
   "metadata": {},
   "outputs": [
    {
     "name": "stderr",
     "output_type": "stream",
     "text": [
      "C:\\Users\\uvd20\\AppData\\Local\\Temp\\ipykernel_1308\\4255638038.py:1: SettingWithCopyWarning: \n",
      "A value is trying to be set on a copy of a slice from a DataFrame\n",
      "\n",
      "See the caveats in the documentation: https://pandas.pydata.org/pandas-docs/stable/user_guide/indexing.html#returning-a-view-versus-a-copy\n",
      "  final_train['isCover'][0] = 0\n",
      "C:\\Users\\uvd20\\AppData\\Local\\Temp\\ipykernel_1308\\4255638038.py:2: SettingWithCopyWarning: \n",
      "A value is trying to be set on a copy of a slice from a DataFrame\n",
      "\n",
      "See the caveats in the documentation: https://pandas.pydata.org/pandas-docs/stable/user_guide/indexing.html#returning-a-view-versus-a-copy\n",
      "  final_train['isCover'][2] = 0\n",
      "C:\\Users\\uvd20\\AppData\\Local\\Temp\\ipykernel_1308\\4255638038.py:3: SettingWithCopyWarning: \n",
      "A value is trying to be set on a copy of a slice from a DataFrame\n",
      "\n",
      "See the caveats in the documentation: https://pandas.pydata.org/pandas-docs/stable/user_guide/indexing.html#returning-a-view-versus-a-copy\n",
      "  final_train['isCover'][3] = 0\n",
      "C:\\Users\\uvd20\\AppData\\Local\\Temp\\ipykernel_1308\\4255638038.py:4: SettingWithCopyWarning: \n",
      "A value is trying to be set on a copy of a slice from a DataFrame\n",
      "\n",
      "See the caveats in the documentation: https://pandas.pydata.org/pandas-docs/stable/user_guide/indexing.html#returning-a-view-versus-a-copy\n",
      "  final_train['isCover'][6] = 1\n",
      "C:\\Users\\uvd20\\AppData\\Local\\Temp\\ipykernel_1308\\4255638038.py:5: SettingWithCopyWarning: \n",
      "A value is trying to be set on a copy of a slice from a DataFrame\n",
      "\n",
      "See the caveats in the documentation: https://pandas.pydata.org/pandas-docs/stable/user_guide/indexing.html#returning-a-view-versus-a-copy\n",
      "  final_train['isCover'][42] = 0\n"
     ]
    },
    {
     "data": {
      "text/plain": "       track_id        artistsName      trackTitle  \\\n0     108315318  Miyagi & Эндшпиль          Saloon   \n1     108315330  Miyagi & Эндшпиль      Silhouette   \n2     108205536          ANNA ASTI  Ночью на кухне   \n3     108284286         Jah Khalib         Осенняя   \n4     107480583            GOARTUR      Иностранец   \n...         ...                ...             ...   \n1995  104956980             Bonsai    Грела сердце   \n1996   22408881            Kaleida           Think   \n1997   84608215         GraveChill        Twilight   \n1998   64641986                Lav           Wavvy   \n1999   50684592     Jonas Brothers          Sucker   \n\n                                                   text  isCover  \n0     В салуне злого вестерна я заливал печаль\\nНас ...        0  \n1     О-уо-о-уо\\nОу-оу-оу-о-о\\n\\nКрадётся лёгкий сил...        0  \n2     Она не боится темноты, как в детстве\\nБольше н...        0  \n3     В сером небе птицы улетят\\nЗастучит опять что-...        0  \n4     Подари мне первый танец\\nЗабери меня с собой\\n...        1  \n...                                                 ...      ...  \n1995  Дева грела сердце человеку у костра\\nКрепко об...        0  \n1996  Go ahead, you're taking me down now\\nGive me, ...        0  \n1997                                                NaN        0  \n1998  I know you like me in the dark\\nBut when my ca...        0  \n1999  We go together\\nBetter than birds of a feather...        0  \n\n[1997 rows x 5 columns]",
      "text/html": "<div>\n<style scoped>\n    .dataframe tbody tr th:only-of-type {\n        vertical-align: middle;\n    }\n\n    .dataframe tbody tr th {\n        vertical-align: top;\n    }\n\n    .dataframe thead th {\n        text-align: right;\n    }\n</style>\n<table border=\"1\" class=\"dataframe\">\n  <thead>\n    <tr style=\"text-align: right;\">\n      <th></th>\n      <th>track_id</th>\n      <th>artistsName</th>\n      <th>trackTitle</th>\n      <th>text</th>\n      <th>isCover</th>\n    </tr>\n  </thead>\n  <tbody>\n    <tr>\n      <th>0</th>\n      <td>108315318</td>\n      <td>Miyagi &amp; Эндшпиль</td>\n      <td>Saloon</td>\n      <td>В салуне злого вестерна я заливал печаль\\nНас ...</td>\n      <td>0</td>\n    </tr>\n    <tr>\n      <th>1</th>\n      <td>108315330</td>\n      <td>Miyagi &amp; Эндшпиль</td>\n      <td>Silhouette</td>\n      <td>О-уо-о-уо\\nОу-оу-оу-о-о\\n\\nКрадётся лёгкий сил...</td>\n      <td>0</td>\n    </tr>\n    <tr>\n      <th>2</th>\n      <td>108205536</td>\n      <td>ANNA ASTI</td>\n      <td>Ночью на кухне</td>\n      <td>Она не боится темноты, как в детстве\\nБольше н...</td>\n      <td>0</td>\n    </tr>\n    <tr>\n      <th>3</th>\n      <td>108284286</td>\n      <td>Jah Khalib</td>\n      <td>Осенняя</td>\n      <td>В сером небе птицы улетят\\nЗастучит опять что-...</td>\n      <td>0</td>\n    </tr>\n    <tr>\n      <th>4</th>\n      <td>107480583</td>\n      <td>GOARTUR</td>\n      <td>Иностранец</td>\n      <td>Подари мне первый танец\\nЗабери меня с собой\\n...</td>\n      <td>1</td>\n    </tr>\n    <tr>\n      <th>...</th>\n      <td>...</td>\n      <td>...</td>\n      <td>...</td>\n      <td>...</td>\n      <td>...</td>\n    </tr>\n    <tr>\n      <th>1995</th>\n      <td>104956980</td>\n      <td>Bonsai</td>\n      <td>Грела сердце</td>\n      <td>Дева грела сердце человеку у костра\\nКрепко об...</td>\n      <td>0</td>\n    </tr>\n    <tr>\n      <th>1996</th>\n      <td>22408881</td>\n      <td>Kaleida</td>\n      <td>Think</td>\n      <td>Go ahead, you're taking me down now\\nGive me, ...</td>\n      <td>0</td>\n    </tr>\n    <tr>\n      <th>1997</th>\n      <td>84608215</td>\n      <td>GraveChill</td>\n      <td>Twilight</td>\n      <td>NaN</td>\n      <td>0</td>\n    </tr>\n    <tr>\n      <th>1998</th>\n      <td>64641986</td>\n      <td>Lav</td>\n      <td>Wavvy</td>\n      <td>I know you like me in the dark\\nBut when my ca...</td>\n      <td>0</td>\n    </tr>\n    <tr>\n      <th>1999</th>\n      <td>50684592</td>\n      <td>Jonas Brothers</td>\n      <td>Sucker</td>\n      <td>We go together\\nBetter than birds of a feather...</td>\n      <td>0</td>\n    </tr>\n  </tbody>\n</table>\n<p>1997 rows × 5 columns</p>\n</div>"
     },
     "execution_count": 53,
     "metadata": {},
     "output_type": "execute_result"
    }
   ],
   "source": [
    "final_train['isCover'][0] = 0\n",
    "final_train['isCover'][2] = 0\n",
    "final_train['isCover'][3] = 0\n",
    "final_train['isCover'][6] = 1\n",
    "final_train['isCover'][42] = 0\n",
    "final_train"
   ]
  },
  {
   "cell_type": "code",
   "execution_count": 54,
   "id": "d7844b6b",
   "metadata": {},
   "outputs": [
    {
     "name": "stdout",
     "output_type": "stream",
     "text": [
      "<class 'pandas.core.frame.DataFrame'>\n",
      "Int64Index: 1997 entries, 0 to 1996\n",
      "Data columns (total 10 columns):\n",
      " #   Column                   Non-Null Count  Dtype \n",
      "---  ------                   --------------  ----- \n",
      " 0   track_id                 1997 non-null   int64 \n",
      " 1   artistsName              1997 non-null   object\n",
      " 2   trackTitle               1997 non-null   object\n",
      " 3   text                     1445 non-null   object\n",
      " 4   isCover                  1997 non-null   int64 \n",
      " 5   rating                   1997 non-null   int64 \n",
      " 6   rating_nan               1997 non-null   bool  \n",
      " 7   title_regex_flag         1997 non-null   bool  \n",
      " 8   other_titles_regex_flag  1997 non-null   bool  \n",
      " 9   version_regex_flag       1997 non-null   bool  \n",
      "dtypes: bool(4), int64(3), object(3)\n",
      "memory usage: 117.0+ KB\n",
      "None\n"
     ]
    },
    {
     "data": {
      "text/plain": "    track_id        artistsName      trackTitle  \\\n0  108315318  Miyagi & Эндшпиль          Saloon   \n1  108315330  Miyagi & Эндшпиль      Silhouette   \n2  108205536          ANNA ASTI  Ночью на кухне   \n3  108284286         Jah Khalib         Осенняя   \n4  107480583            GOARTUR      Иностранец   \n\n                                                text  isCover  rating  \\\n0  В салуне злого вестерна я заливал печаль\\nНас ...        0  808778   \n1  О-уо-о-уо\\nОу-оу-оу-о-о\\n\\nКрадётся лёгкий сил...        0  852296   \n2  Она не боится темноты, как в детстве\\nБольше н...        0  961791   \n3  В сером небе птицы улетят\\nЗастучит опять что-...        0  441685   \n4  Подари мне первый танец\\nЗабери меня с собой\\n...        1  643184   \n\n   rating_nan  title_regex_flag  other_titles_regex_flag  version_regex_flag  \n0       False             False                    False               False  \n1       False             False                    False               False  \n2       False             False                    False               False  \n3       False             False                    False               False  \n4       False             False                    False               False  ",
      "text/html": "<div>\n<style scoped>\n    .dataframe tbody tr th:only-of-type {\n        vertical-align: middle;\n    }\n\n    .dataframe tbody tr th {\n        vertical-align: top;\n    }\n\n    .dataframe thead th {\n        text-align: right;\n    }\n</style>\n<table border=\"1\" class=\"dataframe\">\n  <thead>\n    <tr style=\"text-align: right;\">\n      <th></th>\n      <th>track_id</th>\n      <th>artistsName</th>\n      <th>trackTitle</th>\n      <th>text</th>\n      <th>isCover</th>\n      <th>rating</th>\n      <th>rating_nan</th>\n      <th>title_regex_flag</th>\n      <th>other_titles_regex_flag</th>\n      <th>version_regex_flag</th>\n    </tr>\n  </thead>\n  <tbody>\n    <tr>\n      <th>0</th>\n      <td>108315318</td>\n      <td>Miyagi &amp; Эндшпиль</td>\n      <td>Saloon</td>\n      <td>В салуне злого вестерна я заливал печаль\\nНас ...</td>\n      <td>0</td>\n      <td>808778</td>\n      <td>False</td>\n      <td>False</td>\n      <td>False</td>\n      <td>False</td>\n    </tr>\n    <tr>\n      <th>1</th>\n      <td>108315330</td>\n      <td>Miyagi &amp; Эндшпиль</td>\n      <td>Silhouette</td>\n      <td>О-уо-о-уо\\nОу-оу-оу-о-о\\n\\nКрадётся лёгкий сил...</td>\n      <td>0</td>\n      <td>852296</td>\n      <td>False</td>\n      <td>False</td>\n      <td>False</td>\n      <td>False</td>\n    </tr>\n    <tr>\n      <th>2</th>\n      <td>108205536</td>\n      <td>ANNA ASTI</td>\n      <td>Ночью на кухне</td>\n      <td>Она не боится темноты, как в детстве\\nБольше н...</td>\n      <td>0</td>\n      <td>961791</td>\n      <td>False</td>\n      <td>False</td>\n      <td>False</td>\n      <td>False</td>\n    </tr>\n    <tr>\n      <th>3</th>\n      <td>108284286</td>\n      <td>Jah Khalib</td>\n      <td>Осенняя</td>\n      <td>В сером небе птицы улетят\\nЗастучит опять что-...</td>\n      <td>0</td>\n      <td>441685</td>\n      <td>False</td>\n      <td>False</td>\n      <td>False</td>\n      <td>False</td>\n    </tr>\n    <tr>\n      <th>4</th>\n      <td>107480583</td>\n      <td>GOARTUR</td>\n      <td>Иностранец</td>\n      <td>Подари мне первый танец\\nЗабери меня с собой\\n...</td>\n      <td>1</td>\n      <td>643184</td>\n      <td>False</td>\n      <td>False</td>\n      <td>False</td>\n      <td>False</td>\n    </tr>\n  </tbody>\n</table>\n</div>"
     },
     "execution_count": 54,
     "metadata": {},
     "output_type": "execute_result"
    }
   ],
   "source": [
    "final_train = final_train.merge(df_meta, left_on='track_id', right_on='track_id', how='inner')\n",
    "print(final_train.info())\n",
    "final_train.head()"
   ]
  },
  {
   "cell_type": "code",
   "execution_count": 55,
   "outputs": [],
   "source": [
    "final_train.to_csv('train.csv', index=False)"
   ],
   "metadata": {
    "collapsed": false
   }
  }
 ],
 "metadata": {
  "kernelspec": {
   "display_name": "Python 3 (ipykernel)",
   "language": "python",
   "name": "python3"
  },
  "language_info": {
   "codemirror_mode": {
    "name": "ipython",
    "version": 3
   },
   "file_extension": ".py",
   "mimetype": "text/x-python",
   "name": "python",
   "nbconvert_exporter": "python",
   "pygments_lexer": "ipython3",
   "version": "3.10.4"
  }
 },
 "nbformat": 4,
 "nbformat_minor": 5
}
