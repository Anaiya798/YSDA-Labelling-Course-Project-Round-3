{
 "cells": [
  {
   "cell_type": "markdown",
   "id": "a2a910e2",
   "metadata": {},
   "source": [
    "# Data preprocessing"
   ]
  },
  {
   "cell_type": "code",
   "execution_count": 1,
   "id": "a6dd095a",
   "metadata": {},
   "outputs": [],
   "source": [
    "import pandas as pd\n",
    "from sklearn.model_selection import train_test_split\n",
    "import pickle\n",
    "from typing import Dict, List, Set, Union\n",
    "import numpy as np\n",
    "import pandas as pd\n",
    "from tqdm import tqdm\n",
    "from sentence_transformers import SentenceTransformer, util\n",
    "from sklearn.metrics import classification_report\n",
    "import catboost as cb\n",
    "from copy import deepcopy"
   ]
  },
  {
   "cell_type": "code",
   "execution_count": 2,
   "id": "bd9ab8de",
   "metadata": {},
   "outputs": [],
   "source": [
    "data_path = './train.csv'"
   ]
  },
  {
   "cell_type": "code",
   "execution_count": 3,
   "id": "a286e910",
   "metadata": {},
   "outputs": [],
   "source": [
    "tracks = pd.read_csv(data_path)\n",
    "tracks_without_text = tracks[tracks.isnull().any(axis=1)]\n",
    "tracks_with_text = tracks.dropna()"
   ]
  },
  {
   "cell_type": "code",
   "execution_count": 4,
   "id": "16552b08",
   "metadata": {},
   "outputs": [],
   "source": [
    "knn_size = int(0.6 * len(tracks))\n",
    "catboost_train_size = int(0.3 * len(tracks))"
   ]
  },
  {
   "cell_type": "code",
   "execution_count": 5,
   "id": "141826ee",
   "metadata": {},
   "outputs": [],
   "source": [
    "knn_train, catboost_train_test, knn_train_is_cover, catboost_train_test_is_cover = train_test_split(\n",
    "    tracks_with_text.drop('isCover', axis=1), \n",
    "    tracks_with_text['isCover'], \n",
    "    train_size=knn_size,\n",
    "    random_state=42,\n",
    "    stratify=tracks_with_text['isCover'],\n",
    ")"
   ]
  },
  {
   "cell_type": "code",
   "execution_count": 6,
   "id": "fd16f9e6",
   "metadata": {},
   "outputs": [],
   "source": [
    "knn_train['isCover'] = knn_train_is_cover\n",
    "catboost_train_test['isCover'] = catboost_train_test_is_cover"
   ]
  },
  {
   "cell_type": "code",
   "execution_count": 7,
   "id": "6dce08f5",
   "metadata": {},
   "outputs": [],
   "source": [
    "catboost_train_test = pd.concat([catboost_train_test, tracks_without_text], axis=0, ignore_index=True)"
   ]
  },
  {
   "cell_type": "code",
   "execution_count": 8,
   "id": "633e0f1f",
   "metadata": {},
   "outputs": [],
   "source": [
    "X_train, X_test, y_train, y_test = train_test_split(\n",
    "    catboost_train_test.drop('isCover', axis=1), \n",
    "    catboost_train_test['isCover'], \n",
    "    train_size=catboost_train_size,\n",
    "    random_state=1337,\n",
    "    stratify=catboost_train_test['isCover'],\n",
    ")"
   ]
  },
  {
   "cell_type": "code",
   "execution_count": 9,
   "id": "8171522e",
   "metadata": {},
   "outputs": [
    {
     "data": {
      "application/vnd.jupyter.widget-view+json": {
       "model_id": "",
       "version_major": 2,
       "version_minor": 0
      },
      "text/plain": [
       "Downloading:   0%|          | 0.00/391 [00:00<?, ?B/s]"
      ]
     },
     "metadata": {},
     "output_type": "display_data"
    },
    {
     "data": {
      "application/vnd.jupyter.widget-view+json": {
       "model_id": "",
       "version_major": 2,
       "version_minor": 0
      },
      "text/plain": [
       "Downloading:   0%|          | 0.00/976 [00:00<?, ?B/s]"
      ]
     },
     "metadata": {},
     "output_type": "display_data"
    },
    {
     "data": {
      "application/vnd.jupyter.widget-view+json": {
       "model_id": "",
       "version_major": 2,
       "version_minor": 0
      },
      "text/plain": [
       "Downloading:   0%|          | 0.00/642 [00:00<?, ?B/s]"
      ]
     },
     "metadata": {},
     "output_type": "display_data"
    },
    {
     "data": {
      "application/vnd.jupyter.widget-view+json": {
       "model_id": "",
       "version_major": 2,
       "version_minor": 0
      },
      "text/plain": [
       "Downloading:   0%|          | 0.00/711M [00:00<?, ?B/s]"
      ]
     },
     "metadata": {},
     "output_type": "display_data"
    },
    {
     "data": {
      "application/vnd.jupyter.widget-view+json": {
       "model_id": "",
       "version_major": 2,
       "version_minor": 0
      },
      "text/plain": [
       "Downloading:   0%|          | 0.00/112 [00:00<?, ?B/s]"
      ]
     },
     "metadata": {},
     "output_type": "display_data"
    },
    {
     "data": {
      "application/vnd.jupyter.widget-view+json": {
       "model_id": "",
       "version_major": 2,
       "version_minor": 0
      },
      "text/plain": [
       "Downloading:   0%|          | 0.00/24.0 [00:00<?, ?B/s]"
      ]
     },
     "metadata": {},
     "output_type": "display_data"
    },
    {
     "data": {
      "application/vnd.jupyter.widget-view+json": {
       "model_id": "",
       "version_major": 2,
       "version_minor": 0
      },
      "text/plain": [
       "Downloading:   0%|          | 0.00/1.65M [00:00<?, ?B/s]"
      ]
     },
     "metadata": {},
     "output_type": "display_data"
    },
    {
     "name": "stderr",
     "output_type": "stream",
     "text": [
      "No sentence-transformers model found with name C:\\Users\\azatv/.cache\\torch\\sentence_transformers\\DeepPavlov_rubert-base-cased-sentence. Creating a new one with MEAN pooling.\n"
     ]
    }
   ],
   "source": [
    "# sentence_model = SentenceTransformer('cointegrated/rubert-tiny')\n",
    "sentence_model = SentenceTransformer('DeepPavlov/rubert-base-cased-sentence')"
   ]
  },
  {
   "cell_type": "code",
   "execution_count": 11,
   "id": "474fc0e5",
   "metadata": {},
   "outputs": [],
   "source": [
    "class KNNOnEmbeddings:\n",
    "    def __init__(self, model, ):\n",
    "        super().__init__()\n",
    "        self.model = model\n",
    "        self.embeddings = []\n",
    "        self.embedding_id_to_track_id = []\n",
    "        self.track_info = []\n",
    "        self.text_field = 'text'\n",
    "        \n",
    "    def _parse_track(self, track_text: str) -> Set[str]:\n",
    "        return set([line for line in track_text.split('\\n') if line])\n",
    "    \n",
    "    def _get_line_embedding(self, line: str) -> np.ndarray:\n",
    "        return self.model.encode(line)\n",
    "    \n",
    "    def __len__(self):\n",
    "        return len(self.track_info)\n",
    "    \n",
    "    def _get_track_embeddings(self, track_text: str):\n",
    "        parsed_text = self._parse_track(track_text)\n",
    "        \n",
    "        embeddings = []\n",
    "        for line in parsed_text:\n",
    "            embedding = self._get_line_embedding(line)\n",
    "            embeddings.append(embedding)\n",
    "            \n",
    "        return embeddings\n",
    "                \n",
    "    def append(self, track: Dict[str, Union[str, int, bool, None]]) -> None:\n",
    "        self.track_info.append(track)\n",
    "        embeddings = self._get_track_embeddings(track[self.text_field])\n",
    "        self.embeddings += embeddings\n",
    "        self.embedding_id_to_track_id += [len(self.track_info) - 1, ] * len(embeddings)\n",
    "        \n",
    "    def make_from_dataframe(self, tracks: pd.DataFrame) -> None:\n",
    "        for _, track in tqdm(tracks.iterrows()):\n",
    "            self.append(dict(track))\n",
    "            \n",
    "    def dump(self, file_path: str) -> None:\n",
    "        with open(file_path, 'wb') as file:\n",
    "            pickle.dump(self, file)\n",
    "    \n",
    "    @staticmethod\n",
    "    def load(file_path: str) -> None:\n",
    "        with open(file_path, 'rb') as file:\n",
    "            obj = pickle.load(file)\n",
    "        \n",
    "        return obj\n",
    "    \n",
    "    def _from_embedding_id_to_track_id(self, embedding_ids: List[int]) -> List[int]:\n",
    "        return [self.embedding_id_to_track_id[embedding_id] for embedding_id in embedding_ids]\n",
    "            \n",
    "    def _find_k_nearest_neigbors_by_score(self, scores: List[float], k: int = 3):\n",
    "        ids = np.argpartition(scores, -k)[-k:]\n",
    "        return list(ids), scores[ids]\n",
    "        \n",
    "    def _find_k_nearest_neigbors_by_embeddings(self, embeddings: np.ndarray, k: int = 3):\n",
    "        cos_sims = util.cos_sim(embeddings, knn.embeddings).numpy()\n",
    "        scores = []\n",
    "        for line_cos_sim in cos_sims:\n",
    "            scores.append(self._find_k_nearest_neigbors_by_score(line_cos_sim, k=k))\n",
    "        return scores\n",
    " \n",
    "    def find_k_nearest_neighbors(self, track: Dict[str, Union[str, int, bool, None]], k: int = 3):\n",
    "        embeddings = self._get_track_embeddings(track[self.text_field])\n",
    "        \n",
    "        ids_scores = self._find_k_nearest_neigbors_by_embeddings(embeddings, k=k)\n",
    "        \n",
    "        ids = []\n",
    "        scores = []\n",
    "        for ids_, scores_ in ids_scores:\n",
    "            scores_ /= scores_.sum()\n",
    "            \n",
    "            ids += self._from_embedding_id_to_track_id(ids_)\n",
    "            scores += list(scores_)\n",
    "        \n",
    "        ids_scores = sorted(zip(ids, scores))\n",
    "        ids_agg_scores = []\n",
    "        agg_score = 0.\n",
    "        for i, (idx, score) in enumerate(ids_scores):\n",
    "            if not i or idx == ids_scores[i - 1][0]:\n",
    "                agg_score += score\n",
    "            else:\n",
    "                ids_agg_scores.append((ids_scores[i - 1][0], agg_score))\n",
    "                agg_score = score\n",
    "        \n",
    "        ids_agg_scores.append((ids_scores[-1][0], agg_score))\n",
    "        ids_agg_scores = np.array(ids_agg_scores)\n",
    "                \n",
    "        top_k_ids, _ = self._find_k_nearest_neigbors_by_score(ids_agg_scores[:, 1], k=k)\n",
    "        top_k = ids_agg_scores[top_k_ids, :]\n",
    "        top_k = top_k[::-1]\n",
    "        top_k[:, 0] = top_k[:, 0].astype(int)\n",
    "        return top_k\n",
    "    \n",
    "    def find_k_nearest_tracks(self, track: Dict[str, Union[str, int, bool, None]], fields: List[str], k: int = 3):\n",
    "        if isinstance(track.get(self.text_field, 0.), str):\n",
    "            top_k = self.find_k_nearest_neighbors(track, k=k)\n",
    "\n",
    "            tracks = []\n",
    "\n",
    "            for neighbor in top_k:\n",
    "                idx = int(neighbor[0])\n",
    "                track_info = self.track_info[idx]\n",
    "\n",
    "                for field in fields:\n",
    "                    tracks.append(track_info.get(field, None))\n",
    "\n",
    "                tracks.append(neighbor[1])\n",
    "        else:\n",
    "            tracks = [None, ] * ((len(fields) + 1) * k)\n",
    "            \n",
    "        return tracks"
   ]
  },
  {
   "cell_type": "code",
   "execution_count": 12,
   "id": "7d8e4429",
   "metadata": {},
   "outputs": [],
   "source": [
    "knn = KNNOnEmbeddings(sentence_model)"
   ]
  },
  {
   "cell_type": "code",
   "execution_count": 13,
   "id": "499d63ae",
   "metadata": {},
   "outputs": [
    {
     "name": "stderr",
     "output_type": "stream",
     "text": [
      "1198it [12:57,  1.54it/s]\n"
     ]
    }
   ],
   "source": [
    "knn.make_from_dataframe(knn_train)"
   ]
  },
  {
   "cell_type": "code",
   "execution_count": 14,
   "id": "4eb1bad4",
   "metadata": {},
   "outputs": [],
   "source": [
    "fields = [\n",
    "    'track_id',\n",
    "    'artistsName',\n",
    "    'trackTitle',\n",
    "    'isCover',\n",
    "    'rating',\n",
    "    'title_regex_flag',\n",
    "    'other_titles_regex_flag',\n",
    "    'version_regex_flag',\n",
    "]"
   ]
  },
  {
   "cell_type": "code",
   "execution_count": 15,
   "id": "93e7e12c",
   "metadata": {},
   "outputs": [
    {
     "name": "stderr",
     "output_type": "stream",
     "text": [
      "0it [00:00, ?it/s]C:\\Users\\azatv\\anaconda3\\lib\\site-packages\\sentence_transformers\\util.py:36: UserWarning: Creating a tensor from a list of numpy.ndarrays is extremely slow. Please consider converting the list to a single numpy.ndarray with numpy.array() before converting to a tensor. (Triggered internally at  C:\\cb\\pytorch_1000000000000\\work\\torch\\csrc\\utils\\tensor_new.cpp:204.)\n",
      "  a = torch.tensor(a)\n",
      "599it [07:57,  1.26it/s]\n"
     ]
    }
   ],
   "source": [
    "neighbors_info_train = []\n",
    "\n",
    "for _, track in tqdm(X_train.iterrows()):\n",
    "    neighbors_info_train.append(knn.find_k_nearest_tracks(dict(track), fields))"
   ]
  },
  {
   "cell_type": "code",
   "execution_count": 16,
   "id": "9fcd3e45",
   "metadata": {},
   "outputs": [],
   "source": [
    "additional_features_names = [field + '_top' + suffix for suffix in ['1', '2', '3'] for field in fields + ['similarity']]"
   ]
  },
  {
   "cell_type": "code",
   "execution_count": 17,
   "id": "3eed30e0",
   "metadata": {},
   "outputs": [],
   "source": [
    "train_additional_features = pd.DataFrame(neighbors_info_train, columns=additional_features_names)"
   ]
  },
  {
   "cell_type": "code",
   "execution_count": 18,
   "id": "6cd4b9d0",
   "metadata": {},
   "outputs": [],
   "source": [
    "X_train = pd.concat([X_train.reset_index(drop=True), train_additional_features], axis=1, ignore_index=False)"
   ]
  },
  {
   "cell_type": "code",
   "execution_count": 19,
   "id": "d833a95d",
   "metadata": {},
   "outputs": [],
   "source": [
    "y_train.reset_index(drop=True, inplace=True)"
   ]
  },
  {
   "cell_type": "code",
   "execution_count": 20,
   "id": "3d3471cf",
   "metadata": {},
   "outputs": [
    {
     "name": "stderr",
     "output_type": "stream",
     "text": [
      "200it [02:17,  1.46it/s]\n"
     ]
    }
   ],
   "source": [
    "neighbors_info_test = []\n",
    "\n",
    "for _, track in tqdm(X_test.iterrows()):\n",
    "    neighbors_info_test.append(knn.find_k_nearest_tracks(dict(track), fields))"
   ]
  },
  {
   "cell_type": "code",
   "execution_count": 21,
   "id": "98491999",
   "metadata": {},
   "outputs": [],
   "source": [
    "test_additional_features = pd.DataFrame(neighbors_info_test, columns=additional_features_names)"
   ]
  },
  {
   "cell_type": "code",
   "execution_count": 22,
   "id": "0b731a58",
   "metadata": {},
   "outputs": [],
   "source": [
    "X_test = pd.concat([X_test.reset_index(drop=True), test_additional_features], axis=1, ignore_index=False)"
   ]
  },
  {
   "cell_type": "code",
   "execution_count": 23,
   "id": "0e5f16e3",
   "metadata": {},
   "outputs": [],
   "source": [
    "y_test.reset_index(drop=True, inplace=True)"
   ]
  },
  {
   "cell_type": "code",
   "execution_count": 24,
   "id": "d5bec62f",
   "metadata": {},
   "outputs": [],
   "source": [
    "X_train_ = deepcopy(X_train)\n",
    "\n",
    "for i in range(1, 4):\n",
    "    X_train_[f'similarity_top{i}'] = X_train[f'similarity_top{i}'].fillna(0.)\n",
    "    \n",
    "X_test_ = deepcopy(X_test)\n",
    "\n",
    "for i in range(1, 4):\n",
    "    X_test_[f'similarity_top{i}'] = X_test[f'similarity_top{i}'].fillna(0., in)"
   ]
  },
  {
   "cell_type": "markdown",
   "id": "bba3bd71",
   "metadata": {},
   "source": [
    "# Train Catboost"
   ]
  },
  {
   "cell_type": "code",
   "execution_count": 25,
   "id": "c4d712c6",
   "metadata": {},
   "outputs": [],
   "source": [
    "categorical_features = [\n",
    "    'track_id', \n",
    "    'rating', \n",
    "    'rating_nan', \n",
    "    'title_regex_flag', \n",
    "    'other_titles_regex_flag', \n",
    "    'version_regex_flag',\n",
    "    'track_id_top1',\n",
    "    'isCover_top1',\n",
    "    'rating_top1', \n",
    "    'title_regex_flag_top1', \n",
    "    'other_titles_regex_flag_top1',\n",
    "    'version_regex_flag_top1',\n",
    "    'track_id_top2',\n",
    "    'isCover_top2',\n",
    "    'rating_top2', \n",
    "    'title_regex_flag_top2', \n",
    "    'other_titles_regex_flag_top2',\n",
    "    'version_regex_flag_top2',\n",
    "    'track_id_top3',\n",
    "    'isCover_top3',\n",
    "    'rating_top3', \n",
    "    'title_regex_flag_top3', \n",
    "    'other_titles_regex_flag_top3',\n",
    "    'version_regex_flag_top3',\n",
    "]\n",
    "\n",
    "text_features = [\n",
    "    'artistsName', \n",
    "    'trackTitle', \n",
    "    'text',\n",
    "    'artistsName_top1', \n",
    "    'trackTitle_top1',\n",
    "    'artistsName_top2', \n",
    "    'trackTitle_top2',\n",
    "    'artistsName_top3', \n",
    "    'trackTitle_top3',\n",
    "]"
   ]
  },
  {
   "cell_type": "code",
   "execution_count": 26,
   "id": "2e71d64f",
   "metadata": {},
   "outputs": [],
   "source": [
    "train_dataset = cb.Pool(\n",
    "    X_train_.drop(text_features, axis=1).fillna(-1).astype(int).replace(-1, 'NaN'),\n",
    "    y_train,\n",
    "    cat_features=categorical_features,\n",
    ")\n",
    "\n",
    "test_dataset = cb.Pool(\n",
    "    X_test_.drop(text_features, axis=1).fillna(-1).astype(int).replace(-1, 'NaN'),\n",
    "    y_test,\n",
    "    cat_features=categorical_features,\n",
    ")\n",
    "\n",
    "whole_dataset = cb.Pool(\n",
    "    pd.concat([X_train_, X_test_], axis=0, ignore_index=True).drop(text_features, axis=1).fillna(-1).astype(int).replace(-1, 'NaN'),\n",
    "    pd.concat([y_train, y_test], axis=0, ignore_index=True),\n",
    "    cat_features=categorical_features,\n",
    ")"
   ]
  },
  {
   "cell_type": "code",
   "execution_count": 37,
   "id": "9290bb5b",
   "metadata": {},
   "outputs": [],
   "source": [
    "catboost_classifier = cb.CatBoostClassifier(iterations=200)"
   ]
  },
  {
   "cell_type": "code",
   "execution_count": 38,
   "id": "ba87d792",
   "metadata": {},
   "outputs": [
    {
     "name": "stdout",
     "output_type": "stream",
     "text": [
      "Learning rate set to 0.040952\n",
      "0:\tlearn: 0.6645523\ttotal: 43.4ms\tremaining: 8.63s\n",
      "1:\tlearn: 0.6383854\ttotal: 62.7ms\tremaining: 6.21s\n",
      "2:\tlearn: 0.6136822\ttotal: 78.2ms\tremaining: 5.13s\n",
      "3:\tlearn: 0.5921611\ttotal: 84.6ms\tremaining: 4.14s\n",
      "4:\tlearn: 0.5726525\ttotal: 93.8ms\tremaining: 3.66s\n",
      "5:\tlearn: 0.5549478\ttotal: 97.1ms\tremaining: 3.14s\n",
      "6:\tlearn: 0.5386716\ttotal: 116ms\tremaining: 3.2s\n",
      "7:\tlearn: 0.5231883\ttotal: 135ms\tremaining: 3.24s\n",
      "8:\tlearn: 0.5100157\ttotal: 139ms\tremaining: 2.95s\n",
      "9:\tlearn: 0.4980694\ttotal: 145ms\tremaining: 2.75s\n",
      "10:\tlearn: 0.4866310\ttotal: 151ms\tremaining: 2.6s\n",
      "11:\tlearn: 0.4759861\ttotal: 170ms\tremaining: 2.67s\n",
      "12:\tlearn: 0.4671004\ttotal: 174ms\tremaining: 2.51s\n",
      "13:\tlearn: 0.4589574\ttotal: 186ms\tremaining: 2.47s\n",
      "14:\tlearn: 0.4507517\ttotal: 216ms\tremaining: 2.67s\n",
      "15:\tlearn: 0.4441143\ttotal: 223ms\tremaining: 2.57s\n",
      "16:\tlearn: 0.4379295\ttotal: 235ms\tremaining: 2.53s\n",
      "17:\tlearn: 0.4324539\ttotal: 241ms\tremaining: 2.44s\n",
      "18:\tlearn: 0.4271699\ttotal: 259ms\tremaining: 2.46s\n",
      "19:\tlearn: 0.4223715\ttotal: 275ms\tremaining: 2.48s\n",
      "20:\tlearn: 0.4181638\ttotal: 288ms\tremaining: 2.45s\n",
      "21:\tlearn: 0.4144239\ttotal: 294ms\tremaining: 2.38s\n",
      "22:\tlearn: 0.4106284\ttotal: 302ms\tremaining: 2.32s\n",
      "23:\tlearn: 0.4075168\ttotal: 322ms\tremaining: 2.36s\n",
      "24:\tlearn: 0.4041500\ttotal: 341ms\tremaining: 2.38s\n",
      "25:\tlearn: 0.4013751\ttotal: 356ms\tremaining: 2.38s\n",
      "26:\tlearn: 0.3984587\ttotal: 375ms\tremaining: 2.4s\n",
      "27:\tlearn: 0.3963183\ttotal: 394ms\tremaining: 2.42s\n",
      "28:\tlearn: 0.3939631\ttotal: 413ms\tremaining: 2.44s\n",
      "29:\tlearn: 0.3911483\ttotal: 449ms\tremaining: 2.54s\n",
      "30:\tlearn: 0.3894522\ttotal: 458ms\tremaining: 2.5s\n",
      "31:\tlearn: 0.3879921\ttotal: 465ms\tremaining: 2.44s\n",
      "32:\tlearn: 0.3855470\ttotal: 487ms\tremaining: 2.46s\n",
      "33:\tlearn: 0.3835877\ttotal: 508ms\tremaining: 2.48s\n",
      "34:\tlearn: 0.3824942\ttotal: 512ms\tremaining: 2.41s\n",
      "35:\tlearn: 0.3814950\ttotal: 515ms\tremaining: 2.35s\n",
      "36:\tlearn: 0.3801831\ttotal: 533ms\tremaining: 2.35s\n",
      "37:\tlearn: 0.3787640\ttotal: 543ms\tremaining: 2.31s\n",
      "38:\tlearn: 0.3780076\ttotal: 546ms\tremaining: 2.25s\n",
      "39:\tlearn: 0.3768980\ttotal: 561ms\tremaining: 2.25s\n",
      "40:\tlearn: 0.3759908\ttotal: 568ms\tremaining: 2.2s\n",
      "41:\tlearn: 0.3754144\ttotal: 571ms\tremaining: 2.15s\n",
      "42:\tlearn: 0.3742347\ttotal: 592ms\tremaining: 2.16s\n",
      "43:\tlearn: 0.3737445\ttotal: 599ms\tremaining: 2.12s\n",
      "44:\tlearn: 0.3726987\ttotal: 623ms\tremaining: 2.14s\n",
      "45:\tlearn: 0.3716560\ttotal: 643ms\tremaining: 2.15s\n",
      "46:\tlearn: 0.3709831\ttotal: 652ms\tremaining: 2.12s\n",
      "47:\tlearn: 0.3701085\ttotal: 670ms\tremaining: 2.12s\n",
      "48:\tlearn: 0.3692146\ttotal: 711ms\tremaining: 2.19s\n",
      "49:\tlearn: 0.3679505\ttotal: 731ms\tremaining: 2.19s\n",
      "50:\tlearn: 0.3670266\ttotal: 751ms\tremaining: 2.19s\n",
      "51:\tlearn: 0.3663055\ttotal: 770ms\tremaining: 2.19s\n",
      "52:\tlearn: 0.3660713\ttotal: 796ms\tremaining: 2.21s\n",
      "53:\tlearn: 0.3655401\ttotal: 819ms\tremaining: 2.21s\n",
      "54:\tlearn: 0.3653655\ttotal: 824ms\tremaining: 2.17s\n",
      "55:\tlearn: 0.3648237\ttotal: 867ms\tremaining: 2.23s\n",
      "56:\tlearn: 0.3646773\ttotal: 871ms\tremaining: 2.18s\n",
      "57:\tlearn: 0.3643234\ttotal: 889ms\tremaining: 2.18s\n",
      "58:\tlearn: 0.3637531\ttotal: 906ms\tremaining: 2.16s\n",
      "59:\tlearn: 0.3632254\ttotal: 915ms\tremaining: 2.13s\n",
      "60:\tlearn: 0.3628319\ttotal: 921ms\tremaining: 2.1s\n",
      "61:\tlearn: 0.3620577\ttotal: 946ms\tremaining: 2.11s\n",
      "62:\tlearn: 0.3612105\ttotal: 966ms\tremaining: 2.1s\n",
      "63:\tlearn: 0.3607507\ttotal: 986ms\tremaining: 2.1s\n",
      "64:\tlearn: 0.3600116\ttotal: 1.01s\tremaining: 2.09s\n",
      "65:\tlearn: 0.3599025\ttotal: 1.02s\tremaining: 2.07s\n",
      "66:\tlearn: 0.3595726\ttotal: 1.07s\tremaining: 2.12s\n",
      "67:\tlearn: 0.3592119\ttotal: 1.1s\tremaining: 2.15s\n",
      "68:\tlearn: 0.3587199\ttotal: 1.13s\tremaining: 2.14s\n",
      "69:\tlearn: 0.3583717\ttotal: 1.15s\tremaining: 2.14s\n",
      "70:\tlearn: 0.3581195\ttotal: 1.17s\tremaining: 2.13s\n",
      "71:\tlearn: 0.3579560\ttotal: 1.18s\tremaining: 2.1s\n",
      "72:\tlearn: 0.3578204\ttotal: 1.21s\tremaining: 2.11s\n",
      "73:\tlearn: 0.3576511\ttotal: 1.25s\tremaining: 2.12s\n",
      "74:\tlearn: 0.3575238\ttotal: 1.27s\tremaining: 2.11s\n",
      "75:\tlearn: 0.3573696\ttotal: 1.29s\tremaining: 2.1s\n",
      "76:\tlearn: 0.3571264\ttotal: 1.32s\tremaining: 2.11s\n",
      "77:\tlearn: 0.3566939\ttotal: 1.34s\tremaining: 2.1s\n",
      "78:\tlearn: 0.3565392\ttotal: 1.35s\tremaining: 2.07s\n",
      "79:\tlearn: 0.3563330\ttotal: 1.36s\tremaining: 2.04s\n",
      "80:\tlearn: 0.3562432\ttotal: 1.37s\tremaining: 2.02s\n",
      "81:\tlearn: 0.3559478\ttotal: 1.39s\tremaining: 2s\n",
      "82:\tlearn: 0.3553310\ttotal: 1.41s\tremaining: 1.99s\n",
      "83:\tlearn: 0.3550238\ttotal: 1.43s\tremaining: 1.97s\n",
      "84:\tlearn: 0.3549770\ttotal: 1.44s\tremaining: 1.94s\n",
      "85:\tlearn: 0.3548685\ttotal: 1.44s\tremaining: 1.91s\n",
      "86:\tlearn: 0.3548595\ttotal: 1.45s\tremaining: 1.88s\n",
      "87:\tlearn: 0.3545761\ttotal: 1.48s\tremaining: 1.89s\n",
      "88:\tlearn: 0.3542525\ttotal: 1.52s\tremaining: 1.9s\n",
      "89:\tlearn: 0.3541809\ttotal: 1.54s\tremaining: 1.88s\n",
      "90:\tlearn: 0.3540013\ttotal: 1.56s\tremaining: 1.87s\n",
      "91:\tlearn: 0.3535403\ttotal: 1.58s\tremaining: 1.86s\n",
      "92:\tlearn: 0.3532750\ttotal: 1.6s\tremaining: 1.84s\n",
      "93:\tlearn: 0.3531772\ttotal: 1.62s\tremaining: 1.82s\n",
      "94:\tlearn: 0.3529307\ttotal: 1.64s\tremaining: 1.81s\n",
      "95:\tlearn: 0.3526923\ttotal: 1.66s\tremaining: 1.79s\n",
      "96:\tlearn: 0.3526805\ttotal: 1.66s\tremaining: 1.77s\n",
      "97:\tlearn: 0.3521510\ttotal: 1.68s\tremaining: 1.75s\n",
      "98:\tlearn: 0.3519186\ttotal: 1.7s\tremaining: 1.73s\n",
      "99:\tlearn: 0.3517347\ttotal: 1.72s\tremaining: 1.72s\n",
      "100:\tlearn: 0.3513389\ttotal: 1.76s\tremaining: 1.73s\n",
      "101:\tlearn: 0.3511450\ttotal: 1.8s\tremaining: 1.73s\n",
      "102:\tlearn: 0.3508565\ttotal: 1.82s\tremaining: 1.72s\n",
      "103:\tlearn: 0.3502170\ttotal: 1.85s\tremaining: 1.7s\n",
      "104:\tlearn: 0.3501659\ttotal: 1.86s\tremaining: 1.68s\n",
      "105:\tlearn: 0.3501132\ttotal: 1.87s\tremaining: 1.66s\n",
      "106:\tlearn: 0.3498577\ttotal: 1.9s\tremaining: 1.65s\n",
      "107:\tlearn: 0.3496981\ttotal: 1.92s\tremaining: 1.64s\n",
      "108:\tlearn: 0.3496823\ttotal: 1.95s\tremaining: 1.63s\n",
      "109:\tlearn: 0.3496771\ttotal: 1.96s\tremaining: 1.6s\n",
      "110:\tlearn: 0.3495750\ttotal: 1.98s\tremaining: 1.59s\n",
      "111:\tlearn: 0.3492097\ttotal: 2.01s\tremaining: 1.58s\n",
      "112:\tlearn: 0.3489735\ttotal: 2.06s\tremaining: 1.58s\n",
      "113:\tlearn: 0.3487778\ttotal: 2.08s\tremaining: 1.57s\n",
      "114:\tlearn: 0.3484869\ttotal: 2.1s\tremaining: 1.55s\n",
      "115:\tlearn: 0.3481138\ttotal: 2.13s\tremaining: 1.54s\n",
      "116:\tlearn: 0.3478967\ttotal: 2.15s\tremaining: 1.52s\n",
      "117:\tlearn: 0.3478825\ttotal: 2.16s\tremaining: 1.5s\n",
      "118:\tlearn: 0.3478822\ttotal: 2.16s\tremaining: 1.47s\n",
      "119:\tlearn: 0.3478754\ttotal: 2.17s\tremaining: 1.45s\n",
      "120:\tlearn: 0.3478350\ttotal: 2.17s\tremaining: 1.42s\n",
      "121:\tlearn: 0.3475719\ttotal: 2.19s\tremaining: 1.4s\n",
      "122:\tlearn: 0.3474763\ttotal: 2.21s\tremaining: 1.38s\n",
      "123:\tlearn: 0.3474404\ttotal: 2.22s\tremaining: 1.36s\n",
      "124:\tlearn: 0.3474259\ttotal: 2.23s\tremaining: 1.34s\n",
      "125:\tlearn: 0.3473257\ttotal: 2.24s\tremaining: 1.32s\n",
      "126:\tlearn: 0.3472293\ttotal: 2.25s\tremaining: 1.3s\n",
      "127:\tlearn: 0.3471365\ttotal: 2.27s\tremaining: 1.28s\n",
      "128:\tlearn: 0.3470694\ttotal: 2.29s\tremaining: 1.26s\n",
      "129:\tlearn: 0.3465853\ttotal: 2.32s\tremaining: 1.25s\n",
      "130:\tlearn: 0.3462862\ttotal: 2.35s\tremaining: 1.24s\n",
      "131:\tlearn: 0.3462862\ttotal: 2.36s\tremaining: 1.22s\n",
      "132:\tlearn: 0.3462621\ttotal: 2.36s\tremaining: 1.19s\n",
      "133:\tlearn: 0.3462155\ttotal: 2.39s\tremaining: 1.18s\n",
      "134:\tlearn: 0.3461948\ttotal: 2.39s\tremaining: 1.15s\n",
      "135:\tlearn: 0.3461230\ttotal: 2.43s\tremaining: 1.14s\n",
      "136:\tlearn: 0.3459969\ttotal: 2.45s\tremaining: 1.13s\n",
      "137:\tlearn: 0.3457850\ttotal: 2.51s\tremaining: 1.13s\n",
      "138:\tlearn: 0.3455401\ttotal: 2.53s\tremaining: 1.11s\n",
      "139:\tlearn: 0.3455211\ttotal: 2.54s\tremaining: 1.09s\n",
      "140:\tlearn: 0.3452328\ttotal: 2.56s\tremaining: 1.07s\n",
      "141:\tlearn: 0.3449588\ttotal: 2.58s\tremaining: 1.05s\n",
      "142:\tlearn: 0.3447782\ttotal: 2.6s\tremaining: 1.03s\n",
      "143:\tlearn: 0.3443909\ttotal: 2.61s\tremaining: 1.01s\n",
      "144:\tlearn: 0.3440579\ttotal: 2.63s\tremaining: 998ms\n",
      "145:\tlearn: 0.3438414\ttotal: 2.65s\tremaining: 981ms\n",
      "146:\tlearn: 0.3434370\ttotal: 2.67s\tremaining: 963ms\n",
      "147:\tlearn: 0.3434274\ttotal: 2.68s\tremaining: 943ms\n",
      "148:\tlearn: 0.3431501\ttotal: 2.71s\tremaining: 926ms\n",
      "149:\tlearn: 0.3431113\ttotal: 2.71s\tremaining: 905ms\n",
      "150:\tlearn: 0.3430692\ttotal: 2.74s\tremaining: 888ms\n",
      "151:\tlearn: 0.3429682\ttotal: 2.76s\tremaining: 871ms\n",
      "152:\tlearn: 0.3428706\ttotal: 2.78s\tremaining: 853ms\n",
      "153:\tlearn: 0.3427365\ttotal: 2.83s\tremaining: 844ms\n",
      "154:\tlearn: 0.3425869\ttotal: 2.85s\tremaining: 827ms\n",
      "155:\tlearn: 0.3425059\ttotal: 2.87s\tremaining: 810ms\n",
      "156:\tlearn: 0.3423015\ttotal: 2.9s\tremaining: 795ms\n",
      "157:\tlearn: 0.3419209\ttotal: 2.93s\tremaining: 780ms\n",
      "158:\tlearn: 0.3418301\ttotal: 2.95s\tremaining: 762ms\n",
      "159:\tlearn: 0.3415615\ttotal: 2.97s\tremaining: 743ms\n",
      "160:\tlearn: 0.3413678\ttotal: 2.99s\tremaining: 725ms\n",
      "161:\tlearn: 0.3409973\ttotal: 3.03s\tremaining: 710ms\n",
      "162:\tlearn: 0.3408979\ttotal: 3.04s\tremaining: 691ms\n",
      "163:\tlearn: 0.3408484\ttotal: 3.06s\tremaining: 671ms\n",
      "164:\tlearn: 0.3407491\ttotal: 3.07s\tremaining: 651ms\n"
     ]
    },
    {
     "name": "stdout",
     "output_type": "stream",
     "text": [
      "165:\tlearn: 0.3405205\ttotal: 3.1s\tremaining: 636ms\n",
      "166:\tlearn: 0.3403893\ttotal: 3.13s\tremaining: 618ms\n",
      "167:\tlearn: 0.3402317\ttotal: 3.15s\tremaining: 600ms\n",
      "168:\tlearn: 0.3400640\ttotal: 3.16s\tremaining: 580ms\n",
      "169:\tlearn: 0.3398927\ttotal: 3.2s\tremaining: 564ms\n",
      "170:\tlearn: 0.3398159\ttotal: 3.21s\tremaining: 544ms\n",
      "171:\tlearn: 0.3396289\ttotal: 3.24s\tremaining: 528ms\n",
      "172:\tlearn: 0.3395258\ttotal: 3.26s\tremaining: 510ms\n",
      "173:\tlearn: 0.3391102\ttotal: 3.29s\tremaining: 491ms\n",
      "174:\tlearn: 0.3384200\ttotal: 3.32s\tremaining: 475ms\n",
      "175:\tlearn: 0.3382686\ttotal: 3.37s\tremaining: 459ms\n",
      "176:\tlearn: 0.3380429\ttotal: 3.41s\tremaining: 443ms\n",
      "177:\tlearn: 0.3380256\ttotal: 3.48s\tremaining: 430ms\n",
      "178:\tlearn: 0.3379207\ttotal: 3.49s\tremaining: 410ms\n",
      "179:\tlearn: 0.3376212\ttotal: 3.52s\tremaining: 392ms\n",
      "180:\tlearn: 0.3375669\ttotal: 3.55s\tremaining: 373ms\n",
      "181:\tlearn: 0.3372319\ttotal: 3.58s\tremaining: 354ms\n",
      "182:\tlearn: 0.3370882\ttotal: 3.6s\tremaining: 334ms\n",
      "183:\tlearn: 0.3369449\ttotal: 3.62s\tremaining: 314ms\n",
      "184:\tlearn: 0.3368828\ttotal: 3.64s\tremaining: 295ms\n",
      "185:\tlearn: 0.3365546\ttotal: 3.66s\tremaining: 275ms\n",
      "186:\tlearn: 0.3364978\ttotal: 3.68s\tremaining: 256ms\n",
      "187:\tlearn: 0.3360887\ttotal: 3.71s\tremaining: 237ms\n",
      "188:\tlearn: 0.3358586\ttotal: 3.74s\tremaining: 217ms\n",
      "189:\tlearn: 0.3356793\ttotal: 3.76s\tremaining: 198ms\n",
      "190:\tlearn: 0.3354317\ttotal: 3.79s\tremaining: 178ms\n",
      "191:\tlearn: 0.3354240\ttotal: 3.81s\tremaining: 159ms\n",
      "192:\tlearn: 0.3352234\ttotal: 3.83s\tremaining: 139ms\n",
      "193:\tlearn: 0.3351965\ttotal: 3.84s\tremaining: 119ms\n",
      "194:\tlearn: 0.3351117\ttotal: 3.87s\tremaining: 99.1ms\n",
      "195:\tlearn: 0.3349153\ttotal: 3.89s\tremaining: 79.3ms\n",
      "196:\tlearn: 0.3348013\ttotal: 3.9s\tremaining: 59.5ms\n",
      "197:\tlearn: 0.3347222\ttotal: 3.93s\tremaining: 39.7ms\n",
      "198:\tlearn: 0.3345778\ttotal: 3.95s\tremaining: 19.8ms\n",
      "199:\tlearn: 0.3344994\ttotal: 3.99s\tremaining: 0us\n"
     ]
    },
    {
     "data": {
      "text/plain": [
       "<catboost.core.CatBoostClassifier at 0x25407d06f40>"
      ]
     },
     "execution_count": 38,
     "metadata": {},
     "output_type": "execute_result"
    }
   ],
   "source": [
    "catboost_classifier.fit(whole_dataset)"
   ]
  },
  {
   "cell_type": "code",
   "execution_count": 40,
   "id": "78cb60a3",
   "metadata": {},
   "outputs": [
    {
     "name": "stdout",
     "output_type": "stream",
     "text": [
      "              precision    recall  f1-score   support\n",
      "\n",
      "           0       0.89      0.99      0.94       698\n",
      "           1       0.73      0.11      0.19       101\n",
      "\n",
      "    accuracy                           0.88       799\n",
      "   macro avg       0.81      0.55      0.56       799\n",
      "weighted avg       0.87      0.88      0.84       799\n",
      "\n"
     ]
    }
   ],
   "source": [
    "print(classification_report(whole_dataset.get_label(), catboost_classifier.predict(whole_dataset)))"
   ]
  },
  {
   "cell_type": "markdown",
   "id": "fca098f0",
   "metadata": {},
   "source": [
    "# Dump model weights"
   ]
  },
  {
   "cell_type": "code",
   "execution_count": 41,
   "id": "9da740f8",
   "metadata": {},
   "outputs": [],
   "source": [
    "knn.dump('knn_weights')"
   ]
  },
  {
   "cell_type": "code",
   "execution_count": 42,
   "id": "dfd7966c",
   "metadata": {},
   "outputs": [],
   "source": [
    "catboost_classifier.save_model('catboost_weights')"
   ]
  }
 ],
 "metadata": {
  "kernelspec": {
   "display_name": "Python 3",
   "language": "python",
   "name": "python3"
  },
  "language_info": {
   "codemirror_mode": {
    "name": "ipython",
    "version": 3
   },
   "file_extension": ".py",
   "mimetype": "text/x-python",
   "name": "python",
   "nbconvert_exporter": "python",
   "pygments_lexer": "ipython3",
   "version": "3.8.8"
  }
 },
 "nbformat": 4,
 "nbformat_minor": 5
}
